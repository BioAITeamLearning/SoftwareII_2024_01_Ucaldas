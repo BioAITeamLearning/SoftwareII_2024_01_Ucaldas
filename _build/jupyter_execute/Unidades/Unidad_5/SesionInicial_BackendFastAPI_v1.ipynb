{
 "cells": [
  {
   "cell_type": "markdown",
   "metadata": {
    "id": "Xy2ta9dv5-ij"
   },
   "source": [
    "# Backend FastAPI\n",
    "\n",
    "Usemos FastAPI para construir backend en Python"
   ]
  },
  {
   "cell_type": "markdown",
   "metadata": {
    "id": "E7PW-8tJBLmJ"
   },
   "source": [
    "\n",
    "<img src=\"https://github.com/BioAITeamLearning/SoftwareII_2023_03_Ucaldas/blob/main/_static/images/clasesBackend.png?raw=true\"/>\n"
   ]
  },
  {
   "cell_type": "markdown",
   "metadata": {
    "id": "rVaQW2dt6wBW"
   },
   "source": [
    "## Configuremos el ambiente\n",
    "\n",
    "requirements.txt"
   ]
  },
  {
   "cell_type": "markdown",
   "metadata": {
    "id": "yP-Rxp6F61uX"
   },
   "source": [
    "\n",
    "```\n",
    "fastapi[all]\n",
    "uvicorn[standard]\n",
    "```\n",
    "\n"
   ]
  },
  {
   "cell_type": "code",
   "execution_count": null,
   "metadata": {
    "id": "Y1Le8aFF6-N5"
   },
   "outputs": [],
   "source": [
    "!pip install -r requirements.txt"
   ]
  },
  {
   "cell_type": "code",
   "execution_count": null,
   "metadata": {
    "id": "5ivfDnY158mj"
   },
   "outputs": [],
   "source": [
    "from fastapi import FastAPI\n",
    "\n",
    "app = FastAPI()\n",
    "\n",
    "@app.get(\"/\")\n",
    "async def root():\n",
    "    return {\"message\": \"Hello World\"}"
   ]
  },
  {
   "cell_type": "code",
   "execution_count": null,
   "metadata": {
    "id": "_6jHuln76hfs"
   },
   "outputs": [],
   "source": [
    "!uvicorn main:app --reload"
   ]
  },
  {
   "cell_type": "markdown",
   "metadata": {
    "id": "sj9jGZMH8gfn"
   },
   "source": [
    "## Métodos Get - Post - Put - Delete"
   ]
  },
  {
   "cell_type": "code",
   "execution_count": null,
   "metadata": {
    "cellView": "form",
    "id": "RQ1skjzX8ftl"
   },
   "outputs": [],
   "source": [
    "# @title Cargar Datos\n",
    "users = [\n",
    "    {\n",
    "        \"name\": \"John\",\n",
    "        \"lastname\": \"Doe\",\n",
    "        \"language\": \"English\",\n",
    "        \"email\": \"john.doe@example.com\",\n",
    "        \"location_id\": 1,\n",
    "        \"password\": \"password123\",\n",
    "        \"skill_id\": 101\n",
    "    },\n",
    "    {\n",
    "        \"name\": \"Alice\",\n",
    "        \"lastname\": \"Smith\",\n",
    "        \"language\": \"Spanish\",\n",
    "        \"email\": \"alice.smith@example.com\",\n",
    "        \"location_id\": 2,\n",
    "        \"password\": \"alicepwd456\",\n",
    "        \"skill_id\": 102\n",
    "    },\n",
    "    {\n",
    "        \"name\": \"Bob\",\n",
    "        \"lastname\": \"Johnson\",\n",
    "        \"language\": \"French\",\n",
    "        \"email\": \"bob.johnson@example.com\",\n",
    "        \"location_id\": 3,\n",
    "        \"password\": \"bobbie789\",\n",
    "        \"skill_id\": 103\n",
    "    },\n",
    "    {\n",
    "        \"name\": \"Eva\",\n",
    "        \"lastname\": \"Brown\",\n",
    "        \"language\": \"German\",\n",
    "        \"email\": \"eva.brown@example.com\",\n",
    "        \"location_id\": 4,\n",
    "        \"password\": \"evapass123\",\n",
    "        \"skill_id\": 104\n",
    "    },\n",
    "    {\n",
    "        \"name\": \"Michael\",\n",
    "        \"lastname\": \"Davis\",\n",
    "        \"language\": \"Italian\",\n",
    "        \"email\": \"michael.davis@example.com\",\n",
    "        \"location_id\": 5,\n",
    "        \"password\": \"mdp7890\",\n",
    "        \"skill_id\": 105\n",
    "    },\n",
    "    {\n",
    "        \"name\": \"Sophia\",\n",
    "        \"lastname\": \"Garcia\",\n",
    "        \"language\": \"Portuguese\",\n",
    "        \"email\": \"sophia.garcia@example.com\",\n",
    "        \"location_id\": 6,\n",
    "        \"password\": \"sophiapwd12\",\n",
    "        \"skill_id\": 106\n",
    "    },\n",
    "    {\n",
    "        \"name\": \"Daniel\",\n",
    "        \"lastname\": \"Rodriguez\",\n",
    "        \"language\": \"Chinese\",\n",
    "        \"email\": \"daniel.rodriguez@example.com\",\n",
    "        \"location_id\": 7,\n",
    "        \"password\": \"dan1234\",\n",
    "        \"skill_id\": 107\n",
    "    },\n",
    "    {\n",
    "        \"name\": \"Olivia\",\n",
    "        \"lastname\": \"Martinez\",\n",
    "        \"language\": \"Japanese\",\n",
    "        \"email\": \"olivia.martinez@example.com\",\n",
    "        \"location_id\": 8,\n",
    "        \"password\": \"oliviapass567\",\n",
    "        \"skill_id\": 108\n",
    "    },\n",
    "    {\n",
    "        \"name\": \"William\",\n",
    "        \"lastname\": \"Lopez\",\n",
    "        \"language\": \"Korean\",\n",
    "        \"email\": \"william.lopez@example.com\",\n",
    "        \"location_id\": 9,\n",
    "        \"password\": \"willpwd90\",\n",
    "        \"skill_id\": 109\n",
    "    },\n",
    "    {\n",
    "        \"name\": \"Ava\",\n",
    "        \"lastname\": \"Lee\",\n",
    "        \"language\": \"Russian\",\n",
    "        \"email\": \"ava.lee@example.com\",\n",
    "        \"location_id\": 10,\n",
    "        \"password\": \"avapass321\",\n",
    "        \"skill_id\": 110\n",
    "    }\n",
    "]"
   ]
  },
  {
   "cell_type": "markdown",
   "metadata": {
    "id": "i-rZVPq69kuB"
   },
   "source": [
    "### Documentación:\n",
    "\n",
    "localhost:8000/docs"
   ]
  },
  {
   "cell_type": "code",
   "execution_count": null,
   "metadata": {
    "id": "UVnEemjb9jTq"
   },
   "outputs": [],
   "source": [
    "@app.get(\"/\")\n",
    "async def root():\n",
    "    return {\"message\": \"Hello World\"}"
   ]
  },
  {
   "cell_type": "code",
   "execution_count": null,
   "metadata": {
    "id": "c4P7aje3-cmq"
   },
   "outputs": [],
   "source": [
    "from pydantic import BaseModel\n",
    "class User(BaseModel):\n",
    "    user_id = int\n",
    "    name = str\n",
    "    lastname = str\n",
    "    language = str\n",
    "    email = str\n",
    "    location_id = int\n",
    "    password = str\n",
    "    skill_id = int\n"
   ]
  },
  {
   "cell_type": "markdown",
   "metadata": {
    "id": "UKUqI32HC-K7"
   },
   "source": [
    "#### Probemos la API"
   ]
  },
  {
   "cell_type": "code",
   "execution_count": null,
   "metadata": {
    "id": "2q6RX9s5-I_N"
   },
   "outputs": [],
   "source": [
    "@app.get(\"/items/{item_id}\")\n",
    "async def read_item(item_id: int):\n",
    "    try:\n",
    "        item = users[item_id]\n",
    "        return User(**item)\n",
    "    except:\n",
    "        print ({\"Error\": \"item_id\"})"
   ]
  },
  {
   "cell_type": "code",
   "execution_count": null,
   "metadata": {
    "id": "7o7oPjR79x2O"
   },
   "outputs": [],
   "source": [
    "@app.post(\"/items/\")\n",
    "async def create_item(item: User):\n",
    "    users.append(item)  # Agregar el nuevo registro a la base de datos (en este caso, una lista)\n",
    "    return item"
   ]
  },
  {
   "cell_type": "code",
   "execution_count": null,
   "metadata": {
    "id": "rN2bgKOv_qAk"
   },
   "outputs": [],
   "source": [
    "@app.put(\"/items/{item_id}\")\n",
    "async def update_item(item_id: int, item: User):\n",
    "    if item_id < 0 or item_id >= len(users):\n",
    "        return {\"error\": \"El id del recurso no existe\"}\n",
    "\n",
    "    # Actualizar el recurso existente por su id\n",
    "    users[item_id] = item.dict()\n",
    "\n",
    "    return {\"message\": \"Recurso actualizado correctamente\"}"
   ]
  },
  {
   "cell_type": "code",
   "execution_count": null,
   "metadata": {
    "id": "8ghGe68E_91A"
   },
   "outputs": [],
   "source": [
    "# Endpoint DELETE para eliminar un recurso por su id\n",
    "@app.delete(\"/items/{item_id}\")\n",
    "async def delete_item(item_id: int):\n",
    "    index_to_remove = None\n",
    "\n",
    "    # Buscar el índice del recurso por su id\n",
    "    for i, item in enumerate(users):\n",
    "        if item[\"id\"] == item_id:\n",
    "            index_to_remove = i\n",
    "            break\n",
    "\n",
    "    if index_to_remove is not None:\n",
    "        # Eliminar el recurso de la lista por su índice\n",
    "        deleted_item = users.pop(index_to_remove)\n",
    "        return {\"message\": f\"Recurso con id {item_id} eliminado correctamente\"}\n",
    "    else:\n",
    "        return {\"error\": f\"El recurso con id {item_id} no existe\"}"
   ]
  },
  {
   "cell_type": "markdown",
   "metadata": {
    "id": "ZUrF1jhUA9e3"
   },
   "source": [
    "## Hablemos de esquemas\n",
    "\n",
    "esquemas.py"
   ]
  },
  {
   "cell_type": "code",
   "execution_count": null,
   "metadata": {
    "id": "Yzo939YUAnDH"
   },
   "outputs": [],
   "source": [
    "from pydantic import BaseModel\n",
    "class User(BaseModel):\n",
    "    user_id : int\n",
    "    name : str\n",
    "    lastname : str\n",
    "    language : str\n",
    "    email : str\n",
    "    location_id : int\n",
    "    password : str\n",
    "    skill_id : int"
   ]
  },
  {
   "cell_type": "markdown",
   "metadata": {
    "id": "X-GLo2LFDHbq"
   },
   "source": [
    "## Hablemos de ORM's\n",
    "\n",
    "database.py\n",
    "\n",
    "```\n",
    "sqlalchemy\n",
    "```"
   ]
  },
  {
   "cell_type": "code",
   "execution_count": null,
   "metadata": {
    "id": "P0lVKfd3DG9b"
   },
   "outputs": [],
   "source": [
    "from sqlalchemy import create_engine\n",
    "engine = create_engine(\"sqlite:///test.db\", echo=True)"
   ]
  },
  {
   "cell_type": "code",
   "execution_count": null,
   "metadata": {
    "id": "Bvm2GmgbDofh"
   },
   "outputs": [],
   "source": [
    "from sqlalchemy.orm import sessionmaker\n",
    "from sqlalchemy.ext.declarative import declarative_base\n",
    "session = sessionmaker(bind=engine)\n",
    "\n",
    "Base = declarative_base()"
   ]
  },
  {
   "cell_type": "markdown",
   "metadata": {
    "id": "XY5CbPWnETjA"
   },
   "source": [
    "## Hablemos de modelos (ORM's)\n",
    "\n",
    "\n",
    "models.py\n",
    "\n",
    "`from sqlalchemy import Column, Integer, String, DateTime, Boolean, Float`"
   ]
  },
  {
   "cell_type": "code",
   "execution_count": null,
   "metadata": {
    "id": "ibNV_1ZCETPD"
   },
   "outputs": [],
   "source": [
    "from sqlalchemy import Column, Integer, String, DateTime, Boolean, Float"
   ]
  },
  {
   "cell_type": "code",
   "execution_count": null,
   "metadata": {
    "id": "PnoC3IQwEjcL"
   },
   "outputs": [],
   "source": [
    "\n",
    "class User(Base):\n",
    "    __tablename__ = \"users\"\n",
    "    user_id = Column(Integer, primary_key=True, autoincrement=True)\n",
    "    name = Column(String(50))\n",
    "    lastname = Column(String(50))\n",
    "    language = Column(String)\n",
    "    email = Column(String)\n",
    "    location_id = Column(Integer)\n",
    "    password = Column(String)\n",
    "    skill_id = Column(Integer)\n"
   ]
  },
  {
   "cell_type": "code",
   "execution_count": null,
   "metadata": {
    "id": "_tSdZnEAEnOy"
   },
   "outputs": [],
   "source": [
    "Base.metadata.create_all(engine)"
   ]
  },
  {
   "cell_type": "code",
   "execution_count": null,
   "metadata": {
    "id": "Bl0FQl2kE8Ee"
   },
   "outputs": [],
   "source": [
    "@app.post(\"/users\")\n",
    "async def create_user(user: User):\n",
    "    session.add(user)\n",
    "    session.commit()\n",
    "    return user"
   ]
  },
  {
   "cell_type": "code",
   "execution_count": null,
   "metadata": {
    "id": "E6YGC5BNHGBW"
   },
   "outputs": [],
   "source": [
    "@app.put(\"/items/{item_id}\")\n",
    "async def update_item(item_id: str, item: Item):\n",
    "    return {\"item_name\": item.name, \"item_id\": item_id}\n",
    "\n",
    "\n",
    "@app.get(\"/users\")\n",
    "async def get_users():\n",
    "    users = session.query(User).all()\n",
    "    return users\n",
    "\n",
    "@app.get(\"/users/{user_id}\")\n",
    "async def get_user(user_id: int):\n",
    "    user = session.query(User).filter(User.user_id == user_id).first()\n",
    "    return user"
   ]
  }
 ],
 "metadata": {
  "colab": {
   "provenance": []
  },
  "kernelspec": {
   "display_name": "Python 3",
   "name": "python3"
  },
  "language_info": {
   "name": "python"
  }
 },
 "nbformat": 4,
 "nbformat_minor": 0
}