{
 "cells": [
  {
   "cell_type": "markdown",
   "metadata": {
    "id": "0F1HCskMUB3p"
   },
   "source": [
    "# Numpy\n",
    "\n",
    "Con la librería `numpy` se trabaja con matrices de forma natural. Fíjate cómo se declaran y cómo descubrimos sus dimensiones.\n",
    "\n",
    "https://s3.amazonaws.com/assets.datacamp.com/blog_assets/Numpy_Python_Cheat_Sheet.pdf"
   ]
  },
  {
   "cell_type": "code",
   "execution_count": null,
   "metadata": {
    "colab": {
     "base_uri": "https://localhost:8080/"
    },
    "id": "-FqW3VAWUB3p",
    "outputId": "41885d16-3305-417b-ecec-5d9d9a791560"
   },
   "outputs": [
    {
     "name": "stdout",
     "output_type": "stream",
     "text": [
      "[[1 2 3 4 5]\n",
      " [5 4 3 2 1]\n",
      " [9 8 7 6 5]\n",
      " [7 6 5 6 7]\n",
      " [2 2 2 3 3]\n",
      " [4 3 4 3 4]\n",
      " [5 1 1 4 1]] <class 'numpy.ndarray'> 140 \n",
      "\n",
      "a shape (7, 5) \n",
      "\n",
      "a rows 7 \n",
      "\n",
      "a cols 5\n"
     ]
    }
   ],
   "source": [
    "import numpy as np\n",
    "\n",
    "a = np.array([[1,2,3,4,5],\n",
    "              [5,4,3,2,1],\n",
    "              [9,8,7,6,5],\n",
    "              [7,6,5,6,7],\n",
    "              [2,2,2,3,3],\n",
    "              [4,3,4,3,4],\n",
    "              [5,1,1,4,1]]).astype('int32')\n",
    "\n",
    "print(a, type(a),a.nbytes,\"\\n\")\n",
    "print(\"a shape\", a.shape,\"\\n\")\n",
    "print(\"a rows\", a.shape[0],\"\\n\")\n",
    "print(\"a cols\", a.shape[1])"
   ]
  },
  {
   "cell_type": "code",
   "execution_count": null,
   "metadata": {
    "colab": {
     "base_uri": "https://localhost:8080/"
    },
    "id": "cjgLYuV8wwHJ",
    "outputId": "588feb83-8fa5-475e-8ed7-f03cf041d7fb"
   },
   "outputs": [
    {
     "data": {
      "text/plain": [
       "array([[100,   2,   3,   4,   5],\n",
       "       [  5,   4,   3,   2,   1],\n",
       "       [  9,   8,   7,   6,   5],\n",
       "       [  7,   6,   5,   6,   7],\n",
       "       [  2,   2,   2,   3,   3],\n",
       "       [  4,   3,   4,   3,   4],\n",
       "       [  5,   1,   1,   4,   1]], dtype=int32)"
      ]
     },
     "execution_count": 3,
     "metadata": {},
     "output_type": "execute_result"
    }
   ],
   "source": [
    "a[0,0]=100\n",
    "a"
   ]
  },
  {
   "cell_type": "code",
   "execution_count": null,
   "metadata": {
    "colab": {
     "base_uri": "https://localhost:8080/"
    },
    "id": "hxJRVOj-4L3i",
    "outputId": "f79af566-f921-4f4f-e28d-39cc0d6a4682"
   },
   "outputs": [
    {
     "data": {
      "text/plain": [
       "140"
      ]
     },
     "execution_count": 4,
     "metadata": {},
     "output_type": "execute_result"
    }
   ],
   "source": [
    "a.nbytes"
   ]
  },
  {
   "cell_type": "code",
   "execution_count": null,
   "metadata": {
    "colab": {
     "base_uri": "https://localhost:8080/"
    },
    "id": "z_cyYiQw3yJw",
    "outputId": "9307ee90-95a1-42e0-a0ea-5b97866c1376"
   },
   "outputs": [
    {
     "name": "stdout",
     "output_type": "stream",
     "text": [
      "v shape (8,)\n",
      "v elems 8\n",
      "[ 2  3  4  5  6  7  3 12] <class 'numpy.ndarray'>\n"
     ]
    }
   ],
   "source": [
    "v = np.array([2,3,4,5,6,7,3,12])\n",
    "print(\"v shape\", v.shape)\n",
    "print(\"v elems\", v.shape[0])\n",
    "print(v, type(v))"
   ]
  },
  {
   "cell_type": "code",
   "execution_count": null,
   "metadata": {
    "colab": {
     "base_uri": "https://localhost:8080/"
    },
    "id": "mXmpwu8Istp3",
    "outputId": "865c337c-251a-4d2c-86ab-f69d11cec813"
   },
   "outputs": [
    {
     "data": {
      "text/plain": [
       "array([5, 6, 7, 3])"
      ]
     },
     "execution_count": 10,
     "metadata": {},
     "output_type": "execute_result"
    }
   ],
   "source": [
    "v[3:-1]"
   ]
  },
  {
   "cell_type": "code",
   "execution_count": null,
   "metadata": {
    "colab": {
     "base_uri": "https://localhost:8080/"
    },
    "id": "zIgzmq_IwpqM",
    "outputId": "494fd5a7-25bf-4b83-a086-b0edc9bd8085"
   },
   "outputs": [
    {
     "data": {
      "text/plain": [
       "(2, 12)"
      ]
     },
     "execution_count": 11,
     "metadata": {},
     "output_type": "execute_result"
    }
   ],
   "source": [
    "np.min(v), np.max(v)"
   ]
  },
  {
   "cell_type": "markdown",
   "metadata": {
    "id": "uNtC9DvZUB3w"
   },
   "source": [
    "Con la notación de índices accedemos a columas o filas enteras, rangos de columnas o filas, elementos individuales o porciones de una matriz o un vector."
   ]
  },
  {
   "cell_type": "code",
   "execution_count": null,
   "metadata": {
    "colab": {
     "base_uri": "https://localhost:8080/"
    },
    "id": "uqm-0o6OUB3x",
    "outputId": "1381268f-07d4-45ce-f100-b78cf41318b4"
   },
   "outputs": [
    {
     "name": "stdout",
     "output_type": "stream",
     "text": [
      "una fila         [9 8 7 6 5]\n",
      "una fila         [9 8 7 6 5]\n",
      "una columna      [3 3 7 5 2 4 1]\n",
      "un elemento      7\n",
      "varias filas    \n",
      " [[9 8 7 6 5]\n",
      " [7 6 5 6 7]\n",
      " [2 2 2 3 3]]\n",
      "varias columnas \n",
      " [[2 3]\n",
      " [4 3]\n",
      " [8 7]\n",
      " [6 5]\n",
      " [2 2]\n",
      " [3 4]\n",
      " [1 1]]\n",
      "una porcion     \n",
      " [[8 7]\n",
      " [6 5]\n",
      " [2 2]]\n"
     ]
    }
   ],
   "source": [
    "print(\"una fila        \"  ,a[2])\n",
    "print(\"una fila        \"  ,a[2,:])\n",
    "print(\"una columna     \"  ,a[:,2])\n",
    "print(\"un elemento     \"  ,a[2,2])\n",
    "print(\"varias filas    \\n\",a[2:5])\n",
    "print(\"varias columnas \\n\",a[:,1:3])\n",
    "print(\"una porcion     \\n\",a[2:5,1:3])"
   ]
  },
  {
   "cell_type": "markdown",
   "metadata": {
    "id": "W6UeEa3oUB3y"
   },
   "source": [
    "Muchas funciones de la librería `numpy` operan sobre una matriz completa, o de forma separada por columnas o filas según el valor del argumento `axis`."
   ]
  },
  {
   "cell_type": "code",
   "execution_count": null,
   "metadata": {
    "colab": {
     "base_uri": "https://localhost:8080/"
    },
    "id": "3sSlmRkHUB3z",
    "outputId": "2094a999-e845-4afc-9f96-b7829b0a17ff"
   },
   "outputs": [
    {
     "name": "stdout",
     "output_type": "stream",
     "text": [
      "[[100   2   3   4   5]\n",
      " [  5   4   3   2   1]\n",
      " [  9   8   7   6   5]\n",
      " [  7   6   5   6   7]\n",
      " [  2   2   2   3   3]\n",
      " [  4   3   4   3   4]\n",
      " [  5   1   1   4   1]]\n",
      "suma total 237\n",
      "suma eje 0 [132  26  25  28  26]\n",
      "suma eje 1 [114  15  35  31  12  18  12]\n",
      "promedio total 6.771428571428571\n",
      "promedio eje 0 [18.85714286  3.71428571  3.57142857  4.          3.71428571]\n",
      "promedio eje 1 [22.8  3.   7.   6.2  2.4  3.6  2.4]\n"
     ]
    }
   ],
   "source": [
    "print(a)\n",
    "print(\"suma total\", np.sum(a))\n",
    "print(\"suma eje 0\", np.sum(a, axis=0))\n",
    "print(\"suma eje 1\", np.sum(a, axis=1))\n",
    "print(\"promedio total\", np.mean(a))\n",
    "print(\"promedio eje 0\", np.mean(a, axis=0))\n",
    "print(\"promedio eje 1\", np.mean(a, axis=1))"
   ]
  },
  {
   "cell_type": "markdown",
   "metadata": {
    "id": "AUCKdGJrUB30"
   },
   "source": [
    "Las matrices en Python pueden tener un número arbitrario de dimensiones y podemos acceder a submatrices en la dirección o dimensión que queramos."
   ]
  },
  {
   "cell_type": "code",
   "execution_count": null,
   "metadata": {
    "colab": {
     "base_uri": "https://localhost:8080/"
    },
    "id": "GftqvpCzUB30",
    "outputId": "83f8dff0-6eb4-46be-f3c0-d0f44d877c69"
   },
   "outputs": [
    {
     "name": "stdout",
     "output_type": "stream",
     "text": [
      "[[-19   4 -13 -19  13]\n",
      " [ 19   6  -9  -9 -16]\n",
      " [-11  12  -6 -20  16]\n",
      " [ -4  -1  -4  13   0]\n",
      " [-19  13  -1   9   8]]\n"
     ]
    }
   ],
   "source": [
    "z = np.random.randint(-20,20, size=(5,5))\n",
    "print(z)"
   ]
  },
  {
   "cell_type": "code",
   "execution_count": null,
   "metadata": {
    "colab": {
     "base_uri": "https://localhost:8080/"
    },
    "id": "oc-eIfBPUB31",
    "outputId": "9a9f2639-607c-45c2-8d0a-a96493876592"
   },
   "outputs": [
    {
     "data": {
      "text/plain": [
       "array([-34,  -9,  -9,   4,  10])"
      ]
     },
     "execution_count": 15,
     "metadata": {},
     "output_type": "execute_result"
    }
   ],
   "source": [
    "np.sum(z, axis=1)"
   ]
  },
  {
   "cell_type": "code",
   "execution_count": null,
   "metadata": {
    "colab": {
     "base_uri": "https://localhost:8080/"
    },
    "id": "mhnTP_c7UB33",
    "outputId": "8b1a5ec4-4035-47f0-9949-027576cea329",
    "scrolled": false
   },
   "outputs": [
    {
     "name": "stdout",
     "output_type": "stream",
     "text": [
      "Matrix 3D completa\n",
      " [[[7 0 8]\n",
      "  [4 0 4]\n",
      "  [3 4 9]]\n",
      "\n",
      " [[4 7 9]\n",
      "  [2 2 6]\n",
      "  [0 5 9]]\n",
      "\n",
      " [[8 6 9]\n",
      "  [0 3 0]\n",
      "  [0 9 2]]]\n",
      "----------\n",
      " [[7 0 8]\n",
      " [4 0 4]\n",
      " [3 4 9]]\n",
      "----------\n",
      " [[4 7 9]\n",
      " [2 2 6]\n",
      " [0 5 9]]\n",
      "----------\n",
      " [[7 0 8]\n",
      " [4 7 9]\n",
      " [8 6 9]]\n",
      "----------\n",
      " [0 7 6]\n",
      "----------\n",
      " [[4.66666667 1.33333333 7.        ]\n",
      " [2.         4.66666667 8.        ]\n",
      " [2.66666667 6.         3.66666667]]\n"
     ]
    }
   ],
   "source": [
    "#m = np.random.randint(10, size=(3,3,3))\n",
    "print(\"Matrix 3D completa\\n\", m)\n",
    "print(\"----------\\n\", m[0,:,:])\n",
    "print(\"----------\\n\", m[1,:,:])\n",
    "print(\"----------\\n\", m[:,0,:])\n",
    "print(\"----------\\n\", m[:,0,1])\n",
    "print(\"----------\\n\", np.mean(m, axis=1))"
   ]
  },
  {
   "cell_type": "code",
   "execution_count": null,
   "metadata": {
    "colab": {
     "base_uri": "https://localhost:8080/"
    },
    "id": "iGauXLA6vk-Y",
    "outputId": "360538d5-9421-4a39-8bbe-3bf654d835ff"
   },
   "outputs": [
    {
     "data": {
      "text/plain": [
       "(3, 3, 3)"
      ]
     },
     "execution_count": 15,
     "metadata": {},
     "output_type": "execute_result"
    }
   ],
   "source": [
    "m.shape"
   ]
  },
  {
   "cell_type": "code",
   "execution_count": null,
   "metadata": {
    "id": "cOfLBSOhk65o"
   },
   "outputs": [],
   "source": [
    "m"
   ]
  },
  {
   "cell_type": "markdown",
   "metadata": {
    "id": "Iaspv7I5UB34"
   },
   "source": [
    "# Generación de matrices y vectores"
   ]
  },
  {
   "cell_type": "code",
   "execution_count": null,
   "metadata": {
    "colab": {
     "base_uri": "https://localhost:8080/"
    },
    "id": "CwiJK-_uUB34",
    "outputId": "1dff20b6-823f-45a7-e310-de75034f5584"
   },
   "outputs": [
    {
     "name": "stdout",
     "output_type": "stream",
     "text": [
      "matrix identidad\n",
      " [[1. 0. 0.]\n",
      " [0. 1. 0.]\n",
      " [0. 0. 1.]]\n",
      "vector de ceros [0. 0. 0. 0.]\n",
      "matriz de ceros\n",
      " [[0. 0.]\n",
      " [0. 0.]\n",
      " [0. 0.]]\n",
      "matriz de unos\n",
      " [[1. 1. 1.]\n",
      " [1. 1. 1.]]\n",
      "vector rango [0 1 2 3 4 5 6 7 8 9]\n",
      "vector rango [5 6 7 8 9]\n",
      "vector espacio lineal [ 2.  3.  4.  5.  6.  7.  8.  9. 10. 11. 12.]\n",
      "matriz aleatoria según distribución uniforme [0,1]\n",
      " [[0.57996022 0.65361661 0.99420518 0.12111156 0.26731741]\n",
      " [0.206147   0.25575192 0.66588831 0.55022348 0.76820253]\n",
      " [0.51384056 0.63172996 0.50836505 0.41256526 0.66835632]]\n",
      "vector aleatorio de enteros entre 0 y 5 [0 3 3 0 3 3 2 1 2 1]\n"
     ]
    }
   ],
   "source": [
    "print(\"matrix identidad\\n\", np.eye(3))\n",
    "print(\"vector de ceros\", np.zeros(4))\n",
    "print(\"matriz de ceros\\n\", np.zeros((3,2)))\n",
    "print(\"matriz de unos\\n\", np.ones((2,3)))\n",
    "print(\"vector rango\", np.arange(10))\n",
    "print(\"vector rango\", np.arange(5,10))\n",
    "print(\"vector espacio lineal\", np.linspace(2,12,11))\n",
    "print(\"matriz aleatoria según distribución uniforme [0,1]\\n\", np.random.random(size=(3,5)))\n",
    "print(\"vector aleatorio de enteros entre 0 y 5\", np.random.randint(5, size=10))"
   ]
  },
  {
   "cell_type": "markdown",
   "metadata": {
    "id": "XZ867rKZUB36"
   },
   "source": [
    "# Operaciones vectorizadas"
   ]
  },
  {
   "cell_type": "code",
   "execution_count": null,
   "metadata": {
    "colab": {
     "base_uri": "https://localhost:8080/"
    },
    "id": "-AjKhC1JUB36",
    "outputId": "4abcd65e-dd96-4edf-bf03-451447969ae6"
   },
   "outputs": [
    {
     "name": "stdout",
     "output_type": "stream",
     "text": [
      "[10 12 13 15 20]\n",
      "[11 13 14 16 21]\n",
      "[20 24 26 30 40]\n",
      "[60 83 36 31 82]\n",
      "4169\n"
     ]
    }
   ],
   "source": [
    "import numpy as np\n",
    "v = np.array([10,12,13,15,20])\n",
    "print(v)\n",
    "print(v+1)\n",
    "print(v*2)\n",
    "\n",
    "a =  np.random.randint(100, size=5)\n",
    "print(a)\n",
    "\n",
    "print(v.dot(a))\n"
   ]
  },
  {
   "cell_type": "markdown",
   "metadata": {
    "id": "nMEYxlDeUB4F"
   },
   "source": [
    "Las operaciones vectorizadas también funcionan con expresiones _booleanas_. Fíjate cómo se indexa un vector con una expresión booleana para seleccionar un conjunto de elementos."
   ]
  },
  {
   "cell_type": "code",
   "execution_count": null,
   "metadata": {
    "colab": {
     "base_uri": "https://localhost:8080/"
    },
    "id": "dzbKV15VUB4G",
    "outputId": "db4c1116-e49f-4532-edb8-711cfaef4d3c"
   },
   "outputs": [
    {
     "name": "stdout",
     "output_type": "stream",
     "text": [
      "posiciones en a >4: [False  True False  True False  True]\n",
      "elementos de a >4: [ 8 10  5]\n"
     ]
    }
   ],
   "source": [
    "a = np.array([1,8,4,10,-4,5])\n",
    "print(\"posiciones en a >4:\", a>4)\n",
    "print(\"elementos de a >4:\",a[a>4])"
   ]
  },
  {
   "cell_type": "markdown",
   "metadata": {
    "id": "9TFkr-kjUB4W"
   },
   "source": [
    "# Expresiones compactas / Comprehensions"
   ]
  },
  {
   "cell_type": "markdown",
   "metadata": {
    "id": "2ql0sbHoUB4W"
   },
   "source": [
    "Fíjate cómo las siguientes expresiones son equivalentes:"
   ]
  },
  {
   "cell_type": "code",
   "execution_count": null,
   "metadata": {
    "colab": {
     "base_uri": "https://localhost:8080/"
    },
    "id": "xbXj2IIIUB4X",
    "outputId": "14db23db-babe-4f74-9ae0-957dd5419bd0"
   },
   "outputs": [
    {
     "name": "stdout",
     "output_type": "stream",
     "text": [
      "mayor que 10\n"
     ]
    }
   ],
   "source": [
    "a=15\n",
    "if a > 10:\n",
    "    s = \"mayor que 10\"\n",
    "else:\n",
    "    s = \"menor que 10\"\n",
    "\n",
    "print(s)"
   ]
  },
  {
   "cell_type": "code",
   "execution_count": null,
   "metadata": {
    "colab": {
     "base_uri": "https://localhost:8080/"
    },
    "id": "KAXJngnAUB4Y",
    "outputId": "99d8b1ef-0638-41bb-a445-ab0b407276d7"
   },
   "outputs": [
    {
     "name": "stdout",
     "output_type": "stream",
     "text": [
      "mayor que 10\n"
     ]
    }
   ],
   "source": [
    "a = 15\n",
    "s = \"mayor que 10\" if a > 10 else \"menor que 10\"\n",
    "print(s)"
   ]
  },
  {
   "cell_type": "code",
   "execution_count": null,
   "metadata": {
    "colab": {
     "base_uri": "https://localhost:8080/"
    },
    "id": "VAOQ0XrjUB4a",
    "outputId": "3d717523-fe0f-4126-df4e-6efe95971536"
   },
   "outputs": [
    {
     "name": "stdout",
     "output_type": "stream",
     "text": [
      "[0, 1, 2, 3, 4]\n"
     ]
    }
   ],
   "source": [
    "l=[]\n",
    "for i in range(5):\n",
    "    l.append(i)\n",
    "print(l)\n"
   ]
  },
  {
   "cell_type": "code",
   "execution_count": null,
   "metadata": {
    "colab": {
     "base_uri": "https://localhost:8080/"
    },
    "id": "jrsyNt34UB4b",
    "outputId": "dfc13276-36a1-4d5b-9b82-6527c90a6493"
   },
   "outputs": [
    {
     "name": "stdout",
     "output_type": "stream",
     "text": [
      "[0, 1, 2, 3, 4]\n"
     ]
    }
   ],
   "source": [
    "l=[i for i in range(5)]\n",
    "print(l)"
   ]
  },
  {
   "cell_type": "code",
   "execution_count": null,
   "metadata": {
    "colab": {
     "base_uri": "https://localhost:8080/"
    },
    "id": "so8A_AQ6UB4c",
    "outputId": "4e176203-511c-4104-ffa1-52f13e296c61"
   },
   "outputs": [
    {
     "name": "stdout",
     "output_type": "stream",
     "text": [
      "['10A', '-4B', '20A', '5A']\n"
     ]
    }
   ],
   "source": [
    "a = [10, -4, 20, 5]\n",
    "\n",
    "#o = [\"10A\", \"-4B\", \"20A\", \"5A\"]\n",
    "\n",
    "o = []\n",
    "for i in a:\n",
    "    if i<0:\n",
    "        o.append(str(i)+\"B\")\n",
    "    else:\n",
    "        o.append(str(i)+\"A\")\n",
    "\n",
    "print(o)"
   ]
  },
  {
   "cell_type": "code",
   "execution_count": null,
   "metadata": {
    "colab": {
     "base_uri": "https://localhost:8080/"
    },
    "id": "v7uL-y9NUB4e",
    "outputId": "56cf392a-d37e-45b2-e174-ad41a163f94c"
   },
   "outputs": [
    {
     "name": "stdout",
     "output_type": "stream",
     "text": [
      "['10A', '-4B', '20A', '5A']\n"
     ]
    }
   ],
   "source": [
    "a = [10, -4, 20, 5]\n",
    "def convert(x):\n",
    "    return str(x)+\"B\" if x<0 else str(x)+\"A\"\n",
    "\n",
    "o = [convert(i) for i in a]\n",
    "print(o)"
   ]
  },
  {
   "cell_type": "code",
   "execution_count": null,
   "metadata": {
    "colab": {
     "base_uri": "https://localhost:8080/"
    },
    "id": "z8kgve0vUB4f",
    "outputId": "d0383ce7-f0c2-46f1-f77e-c4f46f748457"
   },
   "outputs": [
    {
     "name": "stdout",
     "output_type": "stream",
     "text": [
      "['el numero 0', 'el numero 1', 'el numero 2', 'el numero 3', 'el numero 4', 'el numero 5', 'el numero 6', 'el numero 7', 'el numero 8', 'el numero 9']\n"
     ]
    }
   ],
   "source": [
    "r = []\n",
    "for i in range(10):\n",
    "    r.append(\"el numero \"+str(i))\n",
    "print(r)"
   ]
  },
  {
   "cell_type": "code",
   "execution_count": null,
   "metadata": {
    "colab": {
     "base_uri": "https://localhost:8080/"
    },
    "id": "W2GqgKLMUB4g",
    "outputId": "5088a2df-313b-44fe-f2b2-823a4493a9dc"
   },
   "outputs": [
    {
     "name": "stdout",
     "output_type": "stream",
     "text": [
      "['el numero 0', 'el numero 1', 'el numero 2', 'el numero 3', 'el numero 4', 'el numero 5', 'el numero 6', 'el numero 7', 'el numero 8', 'el numero 9']\n"
     ]
    }
   ],
   "source": [
    "r = [\"el numero \"+str(i) for i in range(10)]\n",
    "print(r)"
   ]
  },
  {
   "cell_type": "code",
   "execution_count": null,
   "metadata": {
    "colab": {
     "base_uri": "https://localhost:8080/"
    },
    "id": "eQHg-bTzWA1Y",
    "outputId": "a0e4bc4c-feaf-455b-db5c-b957b186147a"
   },
   "outputs": [
    {
     "name": "stdout",
     "output_type": "stream",
     "text": [
      "Fresa es de color roja\n",
      "Limon es de color verde\n",
      "Papaya es de color naranja\n",
      "Manzana es de color amarilla\n",
      "Guayaba es de color rosa\n",
      "\n"
     ]
    },
    {
     "data": {
      "text/plain": [
       "['Fresa es de color roja',\n",
       " 'Limon es de color verde',\n",
       " 'Papaya es de color naranja',\n",
       " 'Manzana es de color amarilla',\n",
       " 'Guayaba es de color rosa']"
      ]
     },
     "execution_count": 41,
     "metadata": {},
     "output_type": "execute_result"
    }
   ],
   "source": [
    "frutas = {'Fresa':'roja', 'Limon':'verde', 'Papaya':'naranja', 'Manzana':'amarilla', 'Guayaba':'rosa'}\n",
    "for nombre, color in frutas.items():\n",
    "    print (nombre, \"es de color\", color)\n",
    "\n",
    "print()\n",
    "r = [nombre+\" es de color \"+color for nombre, color in frutas.items()]\n",
    "r"
   ]
  },
  {
   "cell_type": "markdown",
   "metadata": {
    "id": "0rDtKJvT0RgJ"
   },
   "source": [
    "## Ejercicio\n",
    "\n",
    "Construir una matriz aleatoria de cuatro letras (A,T,C,G) de tamaño 100x1000 luego cambiar las letras por las siguientes codificaciones:\n",
    "\n",
    "Codificación 1: -2,-1,1,2\n",
    "\n",
    "Codificación 2: 0,1,2,3\n",
    "\n",
    "Codifiación 3: 0001,0010,0100,1000\n"
   ]
  },
  {
   "cell_type": "code",
   "execution_count": null,
   "metadata": {
    "id": "N6YoKY5wQ8iD"
   },
   "outputs": [],
   "source": [
    "m=np.array([['A','T'],['C','G']])"
   ]
  },
  {
   "cell_type": "code",
   "execution_count": null,
   "metadata": {
    "colab": {
     "base_uri": "https://localhost:8080/"
    },
    "id": "7g0e0cIGRH8F",
    "outputId": "35902bc5-1f1d-4a87-8f20-e14c63f32f91"
   },
   "outputs": [
    {
     "data": {
      "text/plain": [
       "array([['A', 'T'],\n",
       "       ['C', 'G']], dtype='<U1')"
      ]
     },
     "execution_count": 43,
     "metadata": {},
     "output_type": "execute_result"
    }
   ],
   "source": [
    "m"
   ]
  },
  {
   "cell_type": "markdown",
   "metadata": {
    "id": "AXnrzvJIUB4i"
   },
   "source": [
    "# Matplotlib"
   ]
  },
  {
   "cell_type": "code",
   "execution_count": null,
   "metadata": {
    "colab": {
     "base_uri": "https://localhost:8080/",
     "height": 312
    },
    "id": "fcswCma4UB4j",
    "outputId": "ab15dbce-cd58-4b57-c3a6-3b7deb327cf0"
   },
   "outputs": [
    {
     "data": {
      "text/plain": [
       "Text(0.5, 1.0, 'Gráficas')"
      ]
     },
     "execution_count": 6,
     "metadata": {},
     "output_type": "execute_result"
    },
    {
     "data": {
      "image/png": "[encoded data removed]",
      "text/plain": [
       "<Figure size 432x288 with 1 Axes>"
      ]
     },
     "metadata": {
      "needs_background": "light"
     },
     "output_type": "display_data"
    }
   ],
   "source": [
    "import matplotlib.pyplot as plt\n",
    "import numpy as np\n",
    "%matplotlib inline\n",
    "\n",
    "x = np.linspace(-4,4,20)# El vector de tabulación\n",
    "y=x**2\n",
    "z=x**3\n",
    "\n",
    "plt.plot(x, y, label=\"x^2 plot\")\n",
    "plt.scatter(x, y, label=\"muestras\")\n",
    "plt.plot(x, z, label=\"$x^3$\", color=\"red\")\n",
    "plt.xlim([-4,4])\n",
    "plt.ylim([-15, 15])\n",
    "plt.legend()\n",
    "plt.grid(True)\n",
    "plt.xlabel('eje X')\n",
    "plt.ylabel('eje y')\n",
    "plt.title('Gráficas')"
   ]
  },
  {
   "cell_type": "code",
   "execution_count": null,
   "metadata": {
    "colab": {
     "base_uri": "https://localhost:8080/"
    },
    "id": "e9VdsMUQUB4k",
    "outputId": "6c1321ea-9545-4031-ca6e-84540419d31c"
   },
   "outputs": [
    {
     "data": {
      "text/plain": [
       "Text(0.5, 1.0, '$x^3$')"
      ]
     },
     "execution_count": 45,
     "metadata": {},
     "output_type": "execute_result"
    },
    {
     "data": {
      "image/png": "[encoded data removed]",
      "text/plain": [
       "<Figure size 720x720 with 1 Axes>"
      ]
     },
     "metadata": {
      "needs_background": "light"
     },
     "output_type": "display_data"
    },
    {
     "data": {
      "image/png": "[encoded data removed]",
      "text/plain": [
       "<Figure size 720x720 with 1 Axes>"
      ]
     },
     "metadata": {
      "needs_background": "light"
     },
     "output_type": "display_data"
    }
   ],
   "source": [
    "x = np.linspace(-4,4,20)\n",
    "y=x**2\n",
    "\n",
    "plt.figure(figsize=(10,10))\n",
    "plt.scatter(x, y)\n",
    "plt.grid(True)\n",
    "plt.xlabel('eje X')\n",
    "plt.ylabel('eje y')\n",
    "plt.title('Parabola')\n",
    "\n",
    "plt.figure(figsize=(10,10))\n",
    "plt.plot(x, x**3)\n",
    "plt.grid(True)\n",
    "plt.xlabel('eje X')\n",
    "plt.ylabel('eje y')\n",
    "plt.title('$x^3$')"
   ]
  },
  {
   "cell_type": "code",
   "execution_count": null,
   "metadata": {
    "colab": {
     "base_uri": "https://localhost:8080/",
     "height": 610
    },
    "id": "tgJJ8U4dUB4l",
    "outputId": "bc6f9d10-0157-42e7-a076-b965366e30d2"
   },
   "outputs": [
    {
     "data": {
      "text/plain": [
       "<matplotlib.collections.PathCollection at 0x7ff4845f44f0>"
      ]
     },
     "execution_count": 13,
     "metadata": {},
     "output_type": "execute_result"
    },
    {
     "data": {
      "image/png": "[encoded data removed]",
      "text/plain": [
       "<Figure size 720x720 with 1 Axes>"
      ]
     },
     "metadata": {
      "needs_background": "light"
     },
     "output_type": "display_data"
    }
   ],
   "source": [
    "import matplotlib.pyplot as plt\n",
    "import numpy as np\n",
    "%matplotlib inline\n",
    "plt.figure(figsize=(10,10))\n",
    "x = np.linspace(-4,4,10)\n",
    "\n",
    "\n",
    "plt.plot(x, x**2, color=\"black\", linewidth=6)\n",
    "plt.scatter(x, x**2, c=\"green\", s=400)\n",
    "\n",
    "\n",
    "x_r = np.linspace(-4,4,100)\n",
    "x_ruido = x_r**2 + (np.random.random(x_r.shape)-0.5)*4\n",
    "plt.scatter(x_r,x_ruido, c=\"red\", alpha=0.3)"
   ]
  },
  {
   "cell_type": "code",
   "execution_count": null,
   "metadata": {
    "colab": {
     "base_uri": "https://localhost:8080/",
     "height": 295
    },
    "id": "KvBJppQyEDKk",
    "outputId": "1b925740-cba7-4fea-fc50-f508a2bf393b"
   },
   "outputs": [
    {
     "data": {
      "image/png": "[encoded data removed]",
      "text/plain": [
       "<Figure size 432x288 with 3 Axes>"
      ]
     },
     "metadata": {
      "needs_background": "light"
     },
     "output_type": "display_data"
    }
   ],
   "source": [
    "x=np.linspace(-4,4,100)\n",
    "y=x\n",
    "z=x**2\n",
    "w=x**3\n",
    "#plt.figure()\n",
    "plt.subplot(1,3,1)\n",
    "plt.plot(x,y)\n",
    "plt.xlabel('ejex')\n",
    "plt.ylabel('ejey')\n",
    "plt.title('recta')\n",
    "plt.grid()\n",
    "\n",
    "#plt.figure()\n",
    "plt.subplot(1,3,2)\n",
    "plt.plot(x,z)\n",
    "plt.xlabel('ejex')\n",
    "plt.ylabel('ejey')\n",
    "plt.title('parabola')\n",
    "plt.grid()\n",
    "\n",
    "#plt.figure()\n",
    "plt.subplot(1,3,3)\n",
    "plt.plot(x,w)\n",
    "plt.xlabel('ejex')\n",
    "plt.ylabel('ejey')\n",
    "plt.title('cúbica')\n",
    "plt.grid()"
   ]
  }
 ],
 "metadata": {
  "colab": {
   "collapsed_sections": [
    "0rDtKJvT0RgJ",
    "AXnrzvJIUB4i",
    "lQTi9bB9UB4l"
   ],
   "provenance": [],
   "toc_visible": true
  },
  "gpuClass": "standard",
  "kernelspec": {
   "display_name": "Python 3 (ipykernel)",
   "language": "python",
   "name": "python3"
  },
  "language_info": {
   "codemirror_mode": {
    "name": "ipython",
    "version": 3
   },
   "file_extension": ".py",
   "mimetype": "text/x-python",
   "name": "python",
   "nbconvert_exporter": "python",
   "pygments_lexer": "ipython3",
   "version": "3.8.12"
  },
  "toc": {
   "toc_cell": false,
   "toc_number_sections": true,
   "toc_threshold": 6,
   "toc_window_display": false
  }
 },
 "nbformat": 4,
 "nbformat_minor": 0
}