{
 "cells": [
  {
   "cell_type": "markdown",
   "metadata": {
    "id": "vCQMMI3eLlr-"
   },
   "source": [
    "## Repaso Estructuras Java Vs Python"
   ]
  },
  {
   "cell_type": "code",
   "execution_count": null,
   "metadata": {
    "cellView": "form",
    "colab": {
     "base_uri": "https://localhost:8080/"
    },
    "executionInfo": {
     "elapsed": 14308,
     "status": "ok",
     "timestamp": 1676983921666,
     "user": {
      "displayName": "REINEL TABARES SOTO",
      "userId": "06191532127423773923"
     },
     "user_tz": 300
    },
    "id": "Ma6TUNynJvds",
    "outputId": "3b987585-371e-457c-fd53-fdc110fe70d1"
   },
   "outputs": [
    {
     "name": "stdout",
     "output_type": "stream",
     "text": [
      "Update environment...\n",
      "Install Java...\n",
      "Install Jupyter java kernel...\n",
      "Install proxy for the java kernel\n",
      "e2732061ad19c1afa4a33a58cb8f18a9-b6cff2bf09b6832344e576ea1e4731f0fb3df10c/install_ipc_proxy_kernel.py\n",
      "e2732061ad19c1afa4a33a58cb8f18a9-b6cff2bf09b6832344e576ea1e4731f0fb3df10c/ipc_proxy_kernel.py\n",
      "Moving java kernel from /usr/share/jupyter/kernels/java...\n",
      "Wrote modified kernel.json for java_tcp in /usr/share/jupyter/kernels/java_tcp/kernel.json\n",
      "Installing the proxy kernel in place of java in /usr/share/jupyter/kernels/java\n",
      "Installed proxy kernelspec: {\"argv\": [\"/usr/bin/python3\", \"/usr/share/jupyter/kernels/java/ipc_proxy_kernel.py\", \"{connection_file}\", \"--kernel=java_tcp\"], \"env\": {}, \"display_name\": \"Java\", \"language\": \"java\", \"interrupt_mode\": \"message\", \"metadata\": {}}\n",
      "Proxy kernel installed. Go to 'Runtime > Change runtime type' and select 'java'\n"
     ]
    }
   ],
   "source": [
    "#@title Celda de configuración del notebook para Java\n",
    "#@markdown  - Ejecute esta celda para configurar el entorno de java\n",
    "\n",
    "%%bash\n",
    "#!/usr/bin/env bash\n",
    "\n",
    "echo \"Update environment...\"\n",
    "apt update -q  &> /dev/null\n",
    "\n",
    "echo \"Install Java...\"\n",
    "apt-get install -q openjdk-11-jdk-headless &> /dev/null\n",
    "\n",
    "echo \"Install Jupyter java kernel...\"\n",
    "curl -L https://github.com/SpencerPark/IJava/releases/download/v1.3.0/ijava-1.3.0.zip \\\n",
    " -o ijava-kernel.zip &> /dev/null\n",
    "\n",
    "unzip -q ijava-kernel.zip -d ijava-kernel \\\n",
    " && cd ijava-kernel \\\n",
    " && python3 install.py --sys-prefix &> /dev/null\n",
    "\n",
    "echo \"Install proxy for the java kernel\"\n",
    "# NOTE: required after changes to Google Colab defaults in Dec. 2022\n",
    "# See https://stackoverflow.com/questions/74674688/google-colab-notebook-using-ijava-stuck-at-connecting-after-installation-ref/74821762#74821762\n",
    "\n",
    "wget -qO- https://gist.github.com/SpencerPark/e2732061ad19c1afa4a33a58cb8f18a9/archive/b6cff2bf09b6832344e576ea1e4731f0fb3df10c.tar.gz | tar xvz --strip-components=1\n",
    "python install_ipc_proxy_kernel.py --kernel=java --implementation=ipc_proxy_kernel.py"
   ]
  },
  {
   "cell_type": "markdown",
   "metadata": {
    "id": "A9IpLOAwJSi8"
   },
   "source": [
    "### Hola Mundo en Java desde Colab"
   ]
  },
  {
   "cell_type": "code",
   "execution_count": null,
   "metadata": {
    "colab": {
     "base_uri": "https://localhost:8080/"
    },
    "executionInfo": {
     "elapsed": 192,
     "status": "ok",
     "timestamp": 1676984043747,
     "user": {
      "displayName": "REINEL TABARES SOTO",
      "userId": "06191532127423773923"
     },
     "user_tz": 300
    },
    "id": "_vBEbOqrMbyh",
    "outputId": "4233541d-d3bd-45de-c0b7-826f44163d78"
   },
   "outputs": [
    {
     "name": "stdout",
     "output_type": "stream",
     "text": [
      "Hola mundo en Colab desde Java\n"
     ]
    }
   ],
   "source": [
    "System.out.println(\"Hola mundo en Colab desde Java\");"
   ]
  },
  {
   "cell_type": "markdown",
   "metadata": {
    "id": "1MqifidPIdNZ"
   },
   "source": [
    "## <strong>Recordemos que objeto y clase son similares, ¡pero no lo mismo!</strong>:\n",
    "\n",
    "Clase y objeto son términos que se utilizan en programación orientada a objetos (OOP, por sus siglas en inglés). En este paradigma, una clase es una plantilla para crear objetos que comparten una estructura de datos y un comportamiento común.\n",
    "\n",
    "Por otro lado, un objeto es una instancia de una clase, es decir, es una representación concreta de una clase con valores específicos para sus atributos y métodos. Cada objeto puede tener valores distintos para los atributos y comportarse de manera diferente según las acciones que se le apliquen."
   ]
  },
  {
   "cell_type": "markdown",
   "metadata": {
    "id": "TllIheDYIgDd"
   },
   "source": [
    "## <strong>Definición de clases</strong>"
   ]
  },
  {
   "cell_type": "code",
   "execution_count": null,
   "metadata": {
    "id": "R03Lp_GNcSo8"
   },
   "outputs": [],
   "source": [
    "//Definimos la clase\n",
    "public class Vehicle {\n",
    "    //Se definen los atributos de la clase\n",
    "    protected String make;\n",
    "    protected String model;\n",
    "    protected int year;\n",
    "\n",
    "    // Declaramos el constructor de la clase\n",
    "    public Vehicle(String make, String model, int year) {\n",
    "        this.make = make;\n",
    "        this.model = model;\n",
    "        this.year = year;\n",
    "    }\n",
    "\n",
    "    // Métodos de la clase\n",
    "    public String getDescriptiveName() {\n",
    "        String longName = year + \" \" + make + \" \" + model;\n",
    "        return longName.toUpperCase();\n",
    "    }\n",
    "}"
   ]
  },
  {
   "cell_type": "code",
   "execution_count": null,
   "metadata": {
    "colab": {
     "base_uri": "https://localhost:8080/"
    },
    "executionInfo": {
     "elapsed": 211,
     "status": "ok",
     "timestamp": 1676984266468,
     "user": {
      "displayName": "REINEL TABARES SOTO",
      "userId": "06191532127423773923"
     },
     "user_tz": 300
    },
    "id": "DvJkn15BIvPM",
    "outputId": "af00ff0d-5622-4cea-ba66-b0038674c9ee"
   },
   "outputs": [
    {
     "name": "stdout",
     "output_type": "stream",
     "text": [
      "2022 BMW X5\n"
     ]
    }
   ],
   "source": [
    "// Instanciar una clase\n",
    "Vehicle myCar = new Vehicle(\"bmw\", \"x5\", 2022);\n",
    "System.out.println(myCar.getDescriptiveName());"
   ]
  },
  {
   "cell_type": "markdown",
   "metadata": {
    "id": "Bc-8O1MIY3lr"
   },
   "source": [
    "\n",
    "## Herencia de clases"
   ]
  },
  {
   "cell_type": "code",
   "execution_count": null,
   "metadata": {
    "colab": {
     "base_uri": "https://localhost:8080/"
    },
    "executionInfo": {
     "elapsed": 535,
     "status": "ok",
     "timestamp": 1676984619856,
     "user": {
      "displayName": "REINEL TABARES SOTO",
      "userId": "06191532127423773923"
     },
     "user_tz": 300
    },
    "id": "E7whX1YJRs7M",
    "outputId": "12cc100d-a979-40a8-fec1-0672e5628674"
   },
   "outputs": [
    {
     "name": "stdout",
     "output_type": "stream",
     "text": [
      "2022 BMW X5\n"
     ]
    }
   ],
   "source": [
    "// Vamos a crear una clase carro que hereda de la clase vehículo\n",
    "class Car extends Vehicle {\n",
    "    public int numDoors;\n",
    "\n",
    "    public Car(String make, String model, int year, int numDoors) {\n",
    "        super(make, model, year);\n",
    "        this.numDoors = numDoors;\n",
    "    }\n",
    "      // en caso de que la variable fuera privada y se desea acceder al atributo se necesita los gets a sets\n",
    "     //public int getNumDoors() {\n",
    "    //    return numDoors;\n",
    "    //}\n",
    "        // Métodos de la clase -- metodo sobrecargado para poder imprimir el numero de puertas\n",
    "    //@Override\n",
    "    //public String getDescriptiveName() {\n",
    "    //    String longName = year + \" \" + make + \" \" + model+\" \"+numDoors;\n",
    "    //    return longName.toUpperCase();\n",
    "    //}\n",
    "}\n",
    "\n",
    "Car myCar = new Car(\"bmw\", \"x5\", 2022, 4);\n",
    "System.out.println(myCar.getDescriptiveName());"
   ]
  },
  {
   "cell_type": "code",
   "execution_count": null,
   "metadata": {
    "colab": {
     "base_uri": "https://localhost:8080/"
    },
    "executionInfo": {
     "elapsed": 201,
     "status": "ok",
     "timestamp": 1676984621143,
     "user": {
      "displayName": "REINEL TABARES SOTO",
      "userId": "06191532127423773923"
     },
     "user_tz": 300
    },
    "id": "7tRoLvx8I0DZ",
    "outputId": "95313fdc-88a1-466c-99ee-9bec39c41977"
   },
   "outputs": [
    {
     "data": {
      "text/plain": [
       "4"
      ]
     },
     "execution_count": 41,
     "metadata": {},
     "output_type": "execute_result"
    }
   ],
   "source": [
    "myCar.numDoors"
   ]
  },
  {
   "cell_type": "markdown",
   "metadata": {
    "id": "ENoEFvwe3Rhb"
   },
   "source": [
    "## Polimorfismo"
   ]
  },
  {
   "cell_type": "code",
   "execution_count": null,
   "metadata": {
    "id": "wxHOZpTb3POQ"
   },
   "outputs": [],
   "source": [
    "// Clase Animal\n",
    "public class Animal {\n",
    "    protected String name;\n",
    "\n",
    "    public Animal(String name) {\n",
    "        this.name = name;\n",
    "    }\n",
    "\n",
    "    public void hacerSonido() {\n",
    "        System.out.println(\"Haciendo sonido de animal\");\n",
    "    }\n",
    "}"
   ]
  },
  {
   "cell_type": "code",
   "execution_count": null,
   "metadata": {
    "id": "TR0pwjor3WT1"
   },
   "outputs": [],
   "source": [
    "// Clase Perro que extiende de Animal\n",
    "public class Perro extends Animal {\n",
    "    public Perro(String name) {\n",
    "        super(name);\n",
    "    }\n",
    "    @Override\n",
    "    public void hacerSonido() {\n",
    "        System.out.println(\"Guau guau!\");\n",
    "    }\n",
    "}"
   ]
  },
  {
   "cell_type": "code",
   "execution_count": null,
   "metadata": {
    "id": "to1B1ydl3WY9"
   },
   "outputs": [],
   "source": [
    "// Clase Gato que extiende de Animal\n",
    "public class Gato extends Animal {\n",
    "    public Gato(String name) {\n",
    "        super(name);\n",
    "    }\n",
    "    @Override\n",
    "    public void hacerSonido() {\n",
    "        System.out.println(\"Miau miau!\");\n",
    "    }\n",
    "}"
   ]
  },
  {
   "cell_type": "code",
   "execution_count": null,
   "metadata": {
    "colab": {
     "base_uri": "https://localhost:8080/"
    },
    "executionInfo": {
     "elapsed": 2,
     "status": "ok",
     "timestamp": 1676985236407,
     "user": {
      "displayName": "REINEL TABARES SOTO",
      "userId": "06191532127423773923"
     },
     "user_tz": 300
    },
    "id": "KxrIg4zT3a2R",
    "outputId": "b32c3520-324b-4fc9-a0e8-dbf49fef5b13"
   },
   "outputs": [
    {
     "name": "stdout",
     "output_type": "stream",
     "text": [
      "Haciendo sonido de animal\n",
      "Miau miau!\n"
     ]
    }
   ],
   "source": [
    "Animal animal1 = new Perro(\"Fido\");\n",
    "Animal animal2 = new Gato(\"Pepe\");\n",
    "\n",
    "animal1.hacerSonido(); // Salida: Guau guau!\n",
    "animal2.hacerSonido(); // Salida: Miau miau!"
   ]
  },
  {
   "cell_type": "markdown",
   "metadata": {
    "id": "BJT_1aqQGuQC"
   },
   "source": [
    "## Polimorfismo y clases abstractas\n"
   ]
  },
  {
   "cell_type": "code",
   "execution_count": null,
   "metadata": {
    "id": "NkO_6dbcV-qr"
   },
   "outputs": [],
   "source": [
    "// Definimos una clase padre\n",
    "abstract class Animal {\n",
    "    protected String name;\n",
    "\n",
    "    public Animal(String name) {\n",
    "        this.name = name;\n",
    "    }\n",
    "\n",
    "    public abstract String speak();\n",
    "\n",
    "}"
   ]
  },
  {
   "cell_type": "code",
   "execution_count": null,
   "metadata": {
    "id": "CsFagCKDH87U"
   },
   "outputs": [],
   "source": [
    "// Creamos una clase perro y otra gato que hereda los métodos de Animal.\n",
    "class Dog extends Animal {\n",
    "\n",
    "    public Dog(String name) {\n",
    "        super(name);\n",
    "    }\n",
    "\n",
    "    // Se modifica el método speak\n",
    "    @Override\n",
    "    public String speak() {\n",
    "        return \"Woof!\";\n",
    "    }\n",
    "}\n",
    "\n",
    "class Cat extends Animal {\n",
    "\n",
    "    public Cat(String name) {\n",
    "        super(name);\n",
    "    }\n",
    "\n",
    "    @Override\n",
    "    public String speak() {\n",
    "        return \"Meow!\";\n",
    "    }\n",
    "}\n",
    "\n",
    "public static void petSpeak(Animal pet) {\n",
    "    System.out.println(pet.speak());\n",
    "}"
   ]
  },
  {
   "cell_type": "code",
   "execution_count": null,
   "metadata": {
    "colab": {
     "base_uri": "https://localhost:8080/"
    },
    "executionInfo": {
     "elapsed": 254,
     "status": "ok",
     "timestamp": 1676985315786,
     "user": {
      "displayName": "REINEL TABARES SOTO",
      "userId": "06191532127423773923"
     },
     "user_tz": 300
    },
    "id": "1UL52pS2IOPs",
    "outputId": "8970c5ad-fb82-40de-d4ea-15fd644d782b"
   },
   "outputs": [
    {
     "name": "stdout",
     "output_type": "stream",
     "text": [
      "Woof!\n",
      "Meow!\n"
     ]
    }
   ],
   "source": [
    "// Instanciamos la clase perro\n",
    "Dog dog = new Dog(\"Fido\");\n",
    "Cat cat = new Cat(\"Fluffy\");\n",
    "\n",
    "// Llamamos la función speak para cada objeto\n",
    "petSpeak(dog);\n",
    "petSpeak(cat);"
   ]
  },
  {
   "cell_type": "markdown",
   "metadata": {
    "id": "o6PVXJ-nIW7k"
   },
   "source": [
    "## Decoradores\n",
    "\n",
    "En java no existe el concepto de decoradores como en Python"
   ]
  },
  {
   "cell_type": "markdown",
   "metadata": {
    "id": "BJa5MHDxeadc"
   },
   "source": [
    "## Interfaces"
   ]
  },
  {
   "cell_type": "code",
   "execution_count": null,
   "metadata": {
    "id": "zIEVR3CLev9j"
   },
   "outputs": [],
   "source": [
    "interface Shape {\n",
    "    double area();\n",
    "    double perimeter();\n",
    "}"
   ]
  },
  {
   "cell_type": "code",
   "execution_count": null,
   "metadata": {
    "id": "Ut1M1yEhIZLi"
   },
   "outputs": [],
   "source": [
    "class Rectangle implements Shape {\n",
    "    private double width;\n",
    "    private double height;\n",
    "\n",
    "    public Rectangle(double width, double height) {\n",
    "        this.width = width;\n",
    "        this.height = height;\n",
    "    }\n",
    "\n",
    "    @Override\n",
    "    public double area() {\n",
    "        return width * height;\n",
    "    }\n",
    "\n",
    "    @Override\n",
    "    public double perimeter() {\n",
    "        return 2 * (width + height);\n",
    "    }\n",
    "}\n",
    "\n",
    "class Circle implements Shape {\n",
    "    private double radius;\n",
    "\n",
    "    public Circle(double radius) {\n",
    "        this.radius = radius;\n",
    "    }\n",
    "\n",
    "    @Override\n",
    "    public double area() {\n",
    "        return 3.14 * (radius * radius);\n",
    "    }\n",
    "\n",
    "    @Override\n",
    "    public double perimeter() {\n",
    "        return 2 * 3.14 * radius;\n",
    "    }\n",
    "}"
   ]
  },
  {
   "cell_type": "markdown",
   "metadata": {
    "id": "-WA6cAHIe-C3"
   },
   "source": [
    "En este ejemplo, se define la interfaz *Shape* con los métodos *area()* y *perimeter()*. Luego, se implementan las clases *Rectangle* y *Circle*, que implementan la interfaz *Shape* y proporcionan sus propias implementaciones de los métodos *area()* y *perimeter()*.\n",
    "\n",
    "En la implementación de las clases *Rectangle* y *Circle*, se utilizan las anotaciones *@Override* para indicar que se están anulando los métodos de la interfaz *Shape*."
   ]
  },
  {
   "cell_type": "code",
   "execution_count": null,
   "metadata": {
    "id": "lfRVPGkB7pHp"
   },
   "outputs": [],
   "source": [
    "Rectangle rectangle=new Rectangle(4,3);"
   ]
  },
  {
   "cell_type": "code",
   "execution_count": null,
   "metadata": {
    "colab": {
     "base_uri": "https://localhost:8080/"
    },
    "executionInfo": {
     "elapsed": 222,
     "status": "ok",
     "timestamp": 1676985595602,
     "user": {
      "displayName": "REINEL TABARES SOTO",
      "userId": "06191532127423773923"
     },
     "user_tz": 300
    },
    "id": "5U7paetY8OoB",
    "outputId": "e7cf1617-cc85-41b7-8006-603e0a37f624"
   },
   "outputs": [
    {
     "data": {
      "text/plain": [
       "12.0"
      ]
     },
     "execution_count": 106,
     "metadata": {},
     "output_type": "execute_result"
    }
   ],
   "source": [
    "rectangle.area()"
   ]
  },
  {
   "cell_type": "code",
   "execution_count": null,
   "metadata": {
    "colab": {
     "base_uri": "https://localhost:8080/"
    },
    "executionInfo": {
     "elapsed": 6,
     "status": "ok",
     "timestamp": 1676985596454,
     "user": {
      "displayName": "REINEL TABARES SOTO",
      "userId": "06191532127423773923"
     },
     "user_tz": 300
    },
    "id": "ojIfvQiP8PDb",
    "outputId": "e3e22e0a-856e-441b-8eea-f369b8208067"
   },
   "outputs": [
    {
     "data": {
      "text/plain": [
       "14.0"
      ]
     },
     "execution_count": 108,
     "metadata": {},
     "output_type": "execute_result"
    }
   ],
   "source": [
    "rectangle.perimeter()"
   ]
  },
  {
   "cell_type": "markdown",
   "metadata": {
    "id": "5DBv3D7DfdLi"
   },
   "source": [
    "## Consumo de API's usando módulos de Java"
   ]
  },
  {
   "cell_type": "code",
   "execution_count": null,
   "metadata": {
    "colab": {
     "base_uri": "https://localhost:8080/"
    },
    "executionInfo": {
     "elapsed": 1562,
     "status": "ok",
     "timestamp": 1676985694023,
     "user": {
      "displayName": "REINEL TABARES SOTO",
      "userId": "06191532127423773923"
     },
     "user_tz": 300
    },
    "id": "Z-dGRcPffTsi",
    "outputId": "6eaa8271-71d1-4705-c69b-fec08dc03e53"
   },
   "outputs": [
    {
     "name": "stdout",
     "output_type": "stream",
     "text": [
      "200\n",
      "{\"count\":1279,\"next\":\"https://pokeapi.co/api/v2/pokemon?offset=151&limit=151\",\"previous\":null,\"results\":[{\"name\":\"bulbasaur\",\"url\":\"https://pokeapi.co/api/v2/pokemon/1/\"},{\"name\":\"ivysaur\",\"url\":\"https://pokeapi.co/api/v2/pokemon/2/\"},{\"name\":\"venusaur\",\"url\":\"https://pokeapi.co/api/v2/pokemon/3/\"},{\"name\":\"charmander\",\"url\":\"https://pokeapi.co/api/v2/pokemon/4/\"},{\"name\":\"charmeleon\",\"url\":\"https://pokeapi.co/api/v2/pokemon/5/\"},{\"name\":\"charizard\",\"url\":\"https://pokeapi.co/api/v2/pokemon/6/\"},{\"name\":\"squirtle\",\"url\":\"https://pokeapi.co/api/v2/pokemon/7/\"},{\"name\":\"wartortle\",\"url\":\"https://pokeapi.co/api/v2/pokemon/8/\"},{\"name\":\"blastoise\",\"url\":\"https://pokeapi.co/api/v2/pokemon/9/\"},{\"name\":\"caterpie\",\"url\":\"https://pokeapi.co/api/v2/pokemon/10/\"},{\"name\":\"metapod\",\"url\":\"https://pokeapi.co/api/v2/pokemon/11/\"},{\"name\":\"butterfree\",\"url\":\"https://pokeapi.co/api/v2/pokemon/12/\"},{\"name\":\"weedle\",\"url\":\"https://pokeapi.co/api/v2/pokemon/13/\"},{\"name\":\"kakuna\",\"url\":\"https://pokeapi.co/api/v2/pokemon/14/\"},{\"name\":\"beedrill\",\"url\":\"https://pokeapi.co/api/v2/pokemon/15/\"},{\"name\":\"pidgey\",\"url\":\"https://pokeapi.co/api/v2/pokemon/16/\"},{\"name\":\"pidgeotto\",\"url\":\"https://pokeapi.co/api/v2/pokemon/17/\"},{\"name\":\"pidgeot\",\"url\":\"https://pokeapi.co/api/v2/pokemon/18/\"},{\"name\":\"rattata\",\"url\":\"https://pokeapi.co/api/v2/pokemon/19/\"},{\"name\":\"raticate\",\"url\":\"https://pokeapi.co/api/v2/pokemon/20/\"},{\"name\":\"spearow\",\"url\":\"https://pokeapi.co/api/v2/pokemon/21/\"},{\"name\":\"fearow\",\"url\":\"https://pokeapi.co/api/v2/pokemon/22/\"},{\"name\":\"ekans\",\"url\":\"https://pokeapi.co/api/v2/pokemon/23/\"},{\"name\":\"arbok\",\"url\":\"https://pokeapi.co/api/v2/pokemon/24/\"},{\"name\":\"pikachu\",\"url\":\"https://pokeapi.co/api/v2/pokemon/25/\"},{\"name\":\"raichu\",\"url\":\"https://pokeapi.co/api/v2/pokemon/26/\"},{\"name\":\"sandshrew\",\"url\":\"https://pokeapi.co/api/v2/pokemon/27/\"},{\"name\":\"sandslash\",\"url\":\"https://pokeapi.co/api/v2/pokemon/28/\"},{\"name\":\"nidoran-f\",\"url\":\"https://pokeapi.co/api/v2/pokemon/29/\"},{\"name\":\"nidorina\",\"url\":\"https://pokeapi.co/api/v2/pokemon/30/\"},{\"name\":\"nidoqueen\",\"url\":\"https://pokeapi.co/api/v2/pokemon/31/\"},{\"name\":\"nidoran-m\",\"url\":\"https://pokeapi.co/api/v2/pokemon/32/\"},{\"name\":\"nidorino\",\"url\":\"https://pokeapi.co/api/v2/pokemon/33/\"},{\"name\":\"nidoking\",\"url\":\"https://pokeapi.co/api/v2/pokemon/34/\"},{\"name\":\"clefairy\",\"url\":\"https://pokeapi.co/api/v2/pokemon/35/\"},{\"name\":\"clefable\",\"url\":\"https://pokeapi.co/api/v2/pokemon/36/\"},{\"name\":\"vulpix\",\"url\":\"https://pokeapi.co/api/v2/pokemon/37/\"},{\"name\":\"ninetales\",\"url\":\"https://pokeapi.co/api/v2/pokemon/38/\"},{\"name\":\"jigglypuff\",\"url\":\"https://pokeapi.co/api/v2/pokemon/39/\"},{\"name\":\"wigglytuff\",\"url\":\"https://pokeapi.co/api/v2/pokemon/40/\"},{\"name\":\"zubat\",\"url\":\"https://pokeapi.co/api/v2/pokemon/41/\"},{\"name\":\"golbat\",\"url\":\"https://pokeapi.co/api/v2/pokemon/42/\"},{\"name\":\"oddish\",\"url\":\"https://pokeapi.co/api/v2/pokemon/43/\"},{\"name\":\"gloom\",\"url\":\"https://pokeapi.co/api/v2/pokemon/44/\"},{\"name\":\"vileplume\",\"url\":\"https://pokeapi.co/api/v2/pokemon/45/\"},{\"name\":\"paras\",\"url\":\"https://pokeapi.co/api/v2/pokemon/46/\"},{\"name\":\"parasect\",\"url\":\"https://pokeapi.co/api/v2/pokemon/47/\"},{\"name\":\"venonat\",\"url\":\"https://pokeapi.co/api/v2/pokemon/48/\"},{\"name\":\"venomoth\",\"url\":\"https://pokeapi.co/api/v2/pokemon/49/\"},{\"name\":\"diglett\",\"url\":\"https://pokeapi.co/api/v2/pokemon/50/\"},{\"name\":\"dugtrio\",\"url\":\"https://pokeapi.co/api/v2/pokemon/51/\"},{\"name\":\"meowth\",\"url\":\"https://pokeapi.co/api/v2/pokemon/52/\"},{\"name\":\"persian\",\"url\":\"https://pokeapi.co/api/v2/pokemon/53/\"},{\"name\":\"psyduck\",\"url\":\"https://pokeapi.co/api/v2/pokemon/54/\"},{\"name\":\"golduck\",\"url\":\"https://pokeapi.co/api/v2/pokemon/55/\"},{\"name\":\"mankey\",\"url\":\"https://pokeapi.co/api/v2/pokemon/56/\"},{\"name\":\"primeape\",\"url\":\"https://pokeapi.co/api/v2/pokemon/57/\"},{\"name\":\"growlithe\",\"url\":\"https://pokeapi.co/api/v2/pokemon/58/\"},{\"name\":\"arcanine\",\"url\":\"https://pokeapi.co/api/v2/pokemon/59/\"},{\"name\":\"poliwag\",\"url\":\"https://pokeapi.co/api/v2/pokemon/60/\"},{\"name\":\"poliwhirl\",\"url\":\"https://pokeapi.co/api/v2/pokemon/61/\"},{\"name\":\"poliwrath\",\"url\":\"https://pokeapi.co/api/v2/pokemon/62/\"},{\"name\":\"abra\",\"url\":\"https://pokeapi.co/api/v2/pokemon/63/\"},{\"name\":\"kadabra\",\"url\":\"https://pokeapi.co/api/v2/pokemon/64/\"},{\"name\":\"alakazam\",\"url\":\"https://pokeapi.co/api/v2/pokemon/65/\"},{\"name\":\"machop\",\"url\":\"https://pokeapi.co/api/v2/pokemon/66/\"},{\"name\":\"machoke\",\"url\":\"https://pokeapi.co/api/v2/pokemon/67/\"},{\"name\":\"machamp\",\"url\":\"https://pokeapi.co/api/v2/pokemon/68/\"},{\"name\":\"bellsprout\",\"url\":\"https://pokeapi.co/api/v2/pokemon/69/\"},{\"name\":\"weepinbell\",\"url\":\"https://pokeapi.co/api/v2/pokemon/70/\"},{\"name\":\"victreebel\",\"url\":\"https://pokeapi.co/api/v2/pokemon/71/\"},{\"name\":\"tentacool\",\"url\":\"https://pokeapi.co/api/v2/pokemon/72/\"},{\"name\":\"tentacruel\",\"url\":\"https://pokeapi.co/api/v2/pokemon/73/\"},{\"name\":\"geodude\",\"url\":\"https://pokeapi.co/api/v2/pokemon/74/\"},{\"name\":\"graveler\",\"url\":\"https://pokeapi.co/api/v2/pokemon/75/\"},{\"name\":\"golem\",\"url\":\"https://pokeapi.co/api/v2/pokemon/76/\"},{\"name\":\"ponyta\",\"url\":\"https://pokeapi.co/api/v2/pokemon/77/\"},{\"name\":\"rapidash\",\"url\":\"https://pokeapi.co/api/v2/pokemon/78/\"},{\"name\":\"slowpoke\",\"url\":\"https://pokeapi.co/api/v2/pokemon/79/\"},{\"name\":\"slowbro\",\"url\":\"https://pokeapi.co/api/v2/pokemon/80/\"},{\"name\":\"magnemite\",\"url\":\"https://pokeapi.co/api/v2/pokemon/81/\"},{\"name\":\"magneton\",\"url\":\"https://pokeapi.co/api/v2/pokemon/82/\"},{\"name\":\"farfetchd\",\"url\":\"https://pokeapi.co/api/v2/pokemon/83/\"},{\"name\":\"doduo\",\"url\":\"https://pokeapi.co/api/v2/pokemon/84/\"},{\"name\":\"dodrio\",\"url\":\"https://pokeapi.co/api/v2/pokemon/85/\"},{\"name\":\"seel\",\"url\":\"https://pokeapi.co/api/v2/pokemon/86/\"},{\"name\":\"dewgong\",\"url\":\"https://pokeapi.co/api/v2/pokemon/87/\"},{\"name\":\"grimer\",\"url\":\"https://pokeapi.co/api/v2/pokemon/88/\"},{\"name\":\"muk\",\"url\":\"https://pokeapi.co/api/v2/pokemon/89/\"},{\"name\":\"shellder\",\"url\":\"https://pokeapi.co/api/v2/pokemon/90/\"},{\"name\":\"cloyster\",\"url\":\"https://pokeapi.co/api/v2/pokemon/91/\"},{\"name\":\"gastly\",\"url\":\"https://pokeapi.co/api/v2/pokemon/92/\"},{\"name\":\"haunter\",\"url\":\"https://pokeapi.co/api/v2/pokemon/93/\"},{\"name\":\"gengar\",\"url\":\"https://pokeapi.co/api/v2/pokemon/94/\"},{\"name\":\"onix\",\"url\":\"https://pokeapi.co/api/v2/pokemon/95/\"},{\"name\":\"drowzee\",\"url\":\"https://pokeapi.co/api/v2/pokemon/96/\"},{\"name\":\"hypno\",\"url\":\"https://pokeapi.co/api/v2/pokemon/97/\"},{\"name\":\"krabby\",\"url\":\"https://pokeapi.co/api/v2/pokemon/98/\"},{\"name\":\"kingler\",\"url\":\"https://pokeapi.co/api/v2/pokemon/99/\"},{\"name\":\"voltorb\",\"url\":\"https://pokeapi.co/api/v2/pokemon/100/\"},{\"name\":\"electrode\",\"url\":\"https://pokeapi.co/api/v2/pokemon/101/\"},{\"name\":\"exeggcute\",\"url\":\"https://pokeapi.co/api/v2/pokemon/102/\"},{\"name\":\"exeggutor\",\"url\":\"https://pokeapi.co/api/v2/pokemon/103/\"},{\"name\":\"cubone\",\"url\":\"https://pokeapi.co/api/v2/pokemon/104/\"},{\"name\":\"marowak\",\"url\":\"https://pokeapi.co/api/v2/pokemon/105/\"},{\"name\":\"hitmonlee\",\"url\":\"https://pokeapi.co/api/v2/pokemon/106/\"},{\"name\":\"hitmonchan\",\"url\":\"https://pokeapi.co/api/v2/pokemon/107/\"},{\"name\":\"lickitung\",\"url\":\"https://pokeapi.co/api/v2/pokemon/108/\"},{\"name\":\"koffing\",\"url\":\"https://pokeapi.co/api/v2/pokemon/109/\"},{\"name\":\"weezing\",\"url\":\"https://pokeapi.co/api/v2/pokemon/110/\"},{\"name\":\"rhyhorn\",\"url\":\"https://pokeapi.co/api/v2/pokemon/111/\"},{\"name\":\"rhydon\",\"url\":\"https://pokeapi.co/api/v2/pokemon/112/\"},{\"name\":\"chansey\",\"url\":\"https://pokeapi.co/api/v2/pokemon/113/\"},{\"name\":\"tangela\",\"url\":\"https://pokeapi.co/api/v2/pokemon/114/\"},{\"name\":\"kangaskhan\",\"url\":\"https://pokeapi.co/api/v2/pokemon/115/\"},{\"name\":\"horsea\",\"url\":\"https://pokeapi.co/api/v2/pokemon/116/\"},{\"name\":\"seadra\",\"url\":\"https://pokeapi.co/api/v2/pokemon/117/\"},{\"name\":\"goldeen\",\"url\":\"https://pokeapi.co/api/v2/pokemon/118/\"},{\"name\":\"seaking\",\"url\":\"https://pokeapi.co/api/v2/pokemon/119/\"},{\"name\":\"staryu\",\"url\":\"https://pokeapi.co/api/v2/pokemon/120/\"},{\"name\":\"starmie\",\"url\":\"https://pokeapi.co/api/v2/pokemon/121/\"},{\"name\":\"mr-mime\",\"url\":\"https://pokeapi.co/api/v2/pokemon/122/\"},{\"name\":\"scyther\",\"url\":\"https://pokeapi.co/api/v2/pokemon/123/\"},{\"name\":\"jynx\",\"url\":\"https://pokeapi.co/api/v2/pokemon/124/\"},{\"name\":\"electabuzz\",\"url\":\"https://pokeapi.co/api/v2/pokemon/125/\"},{\"name\":\"magmar\",\"url\":\"https://pokeapi.co/api/v2/pokemon/126/\"},{\"name\":\"pinsir\",\"url\":\"https://pokeapi.co/api/v2/pokemon/127/\"},{\"name\":\"tauros\",\"url\":\"https://pokeapi.co/api/v2/pokemon/128/\"},{\"name\":\"magikarp\",\"url\":\"https://pokeapi.co/api/v2/pokemon/129/\"},{\"name\":\"gyarados\",\"url\":\"https://pokeapi.co/api/v2/pokemon/130/\"},{\"name\":\"lapras\",\"url\":\"https://pokeapi.co/api/v2/pokemon/131/\"},{\"name\":\"ditto\",\"url\":\"https://pokeapi.co/api/v2/pokemon/132/\"},{\"name\":\"eevee\",\"url\":\"https://pokeapi.co/api/v2/pokemon/133/\"},{\"name\":\"vaporeon\",\"url\":\"https://pokeapi.co/api/v2/pokemon/134/\"},{\"name\":\"jolteon\",\"url\":\"https://pokeapi.co/api/v2/pokemon/135/\"},{\"name\":\"flareon\",\"url\":\"https://pokeapi.co/api/v2/pokemon/136/\"},{\"name\":\"porygon\",\"url\":\"https://pokeapi.co/api/v2/pokemon/137/\"},{\"name\":\"omanyte\",\"url\":\"https://pokeapi.co/api/v2/pokemon/138/\"},{\"name\":\"omastar\",\"url\":\"https://pokeapi.co/api/v2/pokemon/139/\"},{\"name\":\"kabuto\",\"url\":\"https://pokeapi.co/api/v2/pokemon/140/\"},{\"name\":\"kabutops\",\"url\":\"https://pokeapi.co/api/v2/pokemon/141/\"},{\"name\":\"aerodactyl\",\"url\":\"https://pokeapi.co/api/v2/pokemon/142/\"},{\"name\":\"snorlax\",\"url\":\"https://pokeapi.co/api/v2/pokemon/143/\"},{\"name\":\"articuno\",\"url\":\"https://pokeapi.co/api/v2/pokemon/144/\"},{\"name\":\"zapdos\",\"url\":\"https://pokeapi.co/api/v2/pokemon/145/\"},{\"name\":\"moltres\",\"url\":\"https://pokeapi.co/api/v2/pokemon/146/\"},{\"name\":\"dratini\",\"url\":\"https://pokeapi.co/api/v2/pokemon/147/\"},{\"name\":\"dragonair\",\"url\":\"https://pokeapi.co/api/v2/pokemon/148/\"},{\"name\":\"dragonite\",\"url\":\"https://pokeapi.co/api/v2/pokemon/149/\"},{\"name\":\"mewtwo\",\"url\":\"https://pokeapi.co/api/v2/pokemon/150/\"},{\"name\":\"mew\",\"url\":\"https://pokeapi.co/api/v2/pokemon/151/\"}]}\n"
     ]
    }
   ],
   "source": [
    "import java.io.BufferedReader;\n",
    "import java.io.IOException;\n",
    "import java.io.InputStreamReader;\n",
    "import java.net.HttpURLConnection;\n",
    "import java.net.URL;\n",
    "\n",
    "\n",
    "URL url = new URL(\"https://pokeapi.co/api/v2/pokemon?limit=151\");\n",
    "HttpURLConnection connection = (HttpURLConnection) url.openConnection();\n",
    "connection.setRequestMethod(\"GET\");\n",
    "\n",
    "int status = connection.getResponseCode();\n",
    "System.out.println(status);\n",
    "\n",
    "BufferedReader input = new BufferedReader(\n",
    "        new InputStreamReader(connection.getInputStream())\n",
    ");\n",
    "StringBuilder response = new StringBuilder();\n",
    "String inputLine;\n",
    "while ((inputLine = input.readLine()) != null) {\n",
    "    response.append(inputLine);\n",
    "}\n",
    "input.close();\n",
    "\n",
    "System.out.println(response.toString());"
   ]
  }
 ],
 "metadata": {
  "colab": {
   "provenance": []
  },
  "gpuClass": "standard",
  "kernelspec": {
   "display_name": "Java",
   "name": "java"
  },
  "language_info": {
   "name": "java"
  }
 },
 "nbformat": 4,
 "nbformat_minor": 0
}