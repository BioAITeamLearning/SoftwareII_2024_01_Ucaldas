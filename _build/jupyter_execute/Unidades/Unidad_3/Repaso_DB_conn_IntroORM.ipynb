{
 "cells": [
  {
   "cell_type": "markdown",
   "metadata": {
    "id": "vLwIRHm5xXXy"
   },
   "source": [
    "## Recordemos lo que es una base de datos\n",
    "\n",
    "Es un almacén o bóveda en donde el sistema guarda la información seleccionada por el usuario. Dicha información puede ser almacenada utilizando estructuras definidas, de manera que acceder a la información sea un proceso rápido dentro de la base de datos.\n",
    "\n",
    "<center><img src=\"https://miro.medium.com/v2/resize:fit:750/0*rwqI3XKmDZgsVuxr.jpg\"/></center>\n",
    "\n",
    "\n",
    "### Tipos de bases de datos\n",
    "\n",
    "<center><img SRC=\"https://gowithcode.com/wp-content/uploads/2021/04/sql-vs-nosql.jpg\"/></center>\n",
    "\n",
    "### OJO: No es lo mismo una base de datos a un gestor de base de datos\n",
    "\n",
    "* \"Yo manejo bases de datos SQLsever\"\n",
    "* \"Yo sé oracle\"\n",
    "* \"Yo manejo bases de datos MongoDB\"\n",
    "* \"Yo sé MySQL\"\n",
    "\n",
    "#### Administrador de base de datos (Motor de base de datos)\n",
    "\n",
    "<center><img src=\"https://i0.wp.com/www.diarlu.com/wp-content/uploads/2019/02/gestores_bases-datos.jpg?fit=1000%2C600&ssl=1\" /></center>\n",
    "\n",
    "\n",
    "\n",
    "## Diagrama ER (Entidad relación)\n",
    "\n",
    "El diagrama entidad relación nos permite tener una visión del relacionamiento y la cantidad de tablas que se utilizan para una aplicación.\n",
    "\n",
    "<center><img src=\"https://mandalay.mx/wp-content/uploads/2023/05/Structure-of-the-relational-database-Mvsemdm-Each-box-on-the-figure-above-contains-one.png\"/></center>\n",
    "\n",
    "\n",
    "\n",
    "\n",
    "\n",
    "\n",
    "\n"
   ]
  },
  {
   "cell_type": "markdown",
   "metadata": {
    "id": "rweL4vGi8liA"
   },
   "source": [
    "## Como llevamos esa información a nuestro desarrollo ?\n",
    "\n",
    "La información de las bases de datos se pueden obtener mediante un **conector**\n",
    "\n",
    "Los conectores de bases de datos nos permiten conectarnos a la base de datos, estos transforman una cadena de texto con una instrucción (**Consulta**) para ser ejecutada en la base de datos y traer la información requerida.\n",
    "\n",
    "### *Usemos SQL_lite* como base de datos"
   ]
  },
  {
   "cell_type": "markdown",
   "metadata": {
    "id": "-m4BI1gaO-lc"
   },
   "source": [
    "DIAGRAMA ENTIDAD RELACION"
   ]
  },
  {
   "cell_type": "code",
   "execution_count": 86,
   "metadata": {
    "colab": {
     "base_uri": "https://localhost:8080/"
    },
    "id": "FaCK0I7dGMIh",
    "outputId": "856b1dae-f93a-44f1-a776-ea8e7912bc1a"
   },
   "outputs": [
    {
     "name": "stdout",
     "output_type": "stream",
     "text": [
      "total 16\n",
      "drwxr-xr-x 1 root root 4096 Sep  1 16:44 .\n",
      "drwxr-xr-x 1 root root 4096 Sep  1 12:56 ..\n",
      "drwxr-xr-x 4 root root 4096 Aug 30 13:24 .config\n",
      "drwxr-xr-x 1 root root 4096 Aug 30 13:25 sample_data\n"
     ]
    }
   ],
   "source": [
    "!ls -la"
   ]
  },
  {
   "cell_type": "code",
   "execution_count": 128,
   "metadata": {
    "id": "ZVzfZyONwyfa"
   },
   "outputs": [],
   "source": [
    "import sqlite3\n",
    "\n",
    "connection = sqlite3.connect(\"MiTiendaCom.db\")"
   ]
  },
  {
   "cell_type": "code",
   "execution_count": 129,
   "metadata": {
    "colab": {
     "base_uri": "https://localhost:8080/"
    },
    "id": "WM3Z3Y_aGJYC",
    "outputId": "db7b71ac-bff7-4d4c-f53b-aed3144181ba"
   },
   "outputs": [
    {
     "name": "stdout",
     "output_type": "stream",
     "text": [
      "total 16\n",
      "drwxr-xr-x 1 root root 4096 Sep  1 17:56 .\n",
      "drwxr-xr-x 1 root root 4096 Sep  1 12:56 ..\n",
      "drwxr-xr-x 4 root root 4096 Aug 30 13:24 .config\n",
      "-rw-r--r-- 1 root root    0 Sep  1 17:56 MiTiendaCom.db\n",
      "drwxr-xr-x 1 root root 4096 Aug 30 13:25 sample_data\n"
     ]
    }
   ],
   "source": [
    "!ls -la"
   ]
  },
  {
   "cell_type": "code",
   "execution_count": 130,
   "metadata": {
    "id": "z3BPepu19zP0"
   },
   "outputs": [],
   "source": [
    "# Creamos un cursor (instanciamos el objeto cursor)\n",
    "c = connection.cursor()"
   ]
  },
  {
   "cell_type": "code",
   "execution_count": 131,
   "metadata": {
    "id": "bfSxA8WgH7bO"
   },
   "outputs": [],
   "source": [
    "c.execute(\"\"\"\n",
    "  -- Crear la tabla de Clientes\n",
    "  CREATE TABLE Clientes (\n",
    "    ID_Cliente INTEGER PRIMARY KEY AUTOINCREMENT,\n",
    "    Nombre TEXT NOT NULL,\n",
    "    Apellido TEXT NOT NULL,\n",
    "    Email TEXT UNIQUE,\n",
    "    Telefono TEXT\n",
    ");\n",
    "\"\"\")\n",
    "# Confirmar la ejecución\n",
    "connection.commit()"
   ]
  },
  {
   "cell_type": "code",
   "execution_count": 132,
   "metadata": {
    "colab": {
     "base_uri": "https://localhost:8080/"
    },
    "id": "nM5g-8XqJeH1",
    "outputId": "00e088f5-bac9-4b31-cce1-142d29883c5a"
   },
   "outputs": [
    {
     "name": "stdout",
     "output_type": "stream",
     "text": [
      "total 32\n",
      "drwxr-xr-x 1 root root  4096 Sep  1 17:56 .\n",
      "drwxr-xr-x 1 root root  4096 Sep  1 12:56 ..\n",
      "drwxr-xr-x 4 root root  4096 Aug 30 13:24 .config\n",
      "-rw-r--r-- 1 root root 16384 Sep  1 17:56 MiTiendaCom.db\n",
      "drwxr-xr-x 1 root root  4096 Aug 30 13:25 sample_data\n"
     ]
    }
   ],
   "source": [
    "!ls -la"
   ]
  },
  {
   "cell_type": "code",
   "execution_count": 133,
   "metadata": {
    "id": "HnIALuK8Jppd"
   },
   "outputs": [],
   "source": [
    "from logging import exception\n",
    "## Vamos a generar una función para terminar todo.\n",
    "\n",
    "def get_connection():\n",
    "  return sqlite3.connect(\"MiTiendaCom.db\")\n",
    "\n",
    "def exec_instruction(cmd: str):\n",
    "  try:\n",
    "    conn = get_connection()\n",
    "    c = conn.cursor()\n",
    "    c.execute(cmd)\n",
    "    # Confirmar la ejecución\n",
    "    conn.commit()\n",
    "    conn.close()\n",
    "    print(\"Executed Succesfully\")\n",
    "  except:\n",
    "    print(\"Error in query execution\")\n",
    "\n"
   ]
  },
  {
   "cell_type": "code",
   "execution_count": 134,
   "metadata": {
    "id": "odWO_ulWKHo3"
   },
   "outputs": [],
   "source": [
    "tabla1 = \"\"\"-- Crear la tabla de Categorías\n",
    "CREATE TABLE Categorias (\n",
    "    ID_Categoria INTEGER PRIMARY KEY AUTOINCREMENT,\n",
    "    Nombre TEXT NOT NULL UNIQUE\n",
    ");\"\"\"\n",
    "\n",
    "tabla2 = \"\"\"-- Crear la tabla de Productos\n",
    "CREATE TABLE Productos (\n",
    "    ID_Producto INTEGER PRIMARY KEY AUTOINCREMENT,\n",
    "    Nombre TEXT NOT NULL,\n",
    "    Precio REAL NOT NULL,\n",
    "    Cantidad INTEGER NOT NULL,\n",
    "    ID_Categoria INTEGER,\n",
    "    FOREIGN KEY (ID_Categoria) REFERENCES Categorias(ID_Categoria)\n",
    ");\"\"\""
   ]
  },
  {
   "cell_type": "code",
   "execution_count": 135,
   "metadata": {
    "colab": {
     "base_uri": "https://localhost:8080/"
    },
    "id": "urtzd8I0LOOj",
    "outputId": "0ba19125-6325-45b1-b0d9-b1ea661eeb29"
   },
   "outputs": [
    {
     "name": "stdout",
     "output_type": "stream",
     "text": [
      "Executed Succesfully\n",
      "Executed Succesfully\n"
     ]
    }
   ],
   "source": [
    "exec_instruction(tabla1)\n",
    "exec_instruction(tabla2)"
   ]
  },
  {
   "cell_type": "code",
   "execution_count": 136,
   "metadata": {
    "colab": {
     "base_uri": "https://localhost:8080/"
    },
    "id": "2gIAWkTTMVs7",
    "outputId": "70a3f65f-59d0-47a8-ff33-1b3c40862ec7"
   },
   "outputs": [
    {
     "name": "stdout",
     "output_type": "stream",
     "text": [
      "Executed Succesfully\n",
      "Executed Succesfully\n",
      "Executed Succesfully\n"
     ]
    }
   ],
   "source": [
    "rest = \"\"\"\n",
    "  -- Crear la tabla de Empleados\n",
    "  CREATE TABLE Empleados (\n",
    "      ID_Empleado INTEGER PRIMARY KEY AUTOINCREMENT,\n",
    "      Nombre TEXT NOT NULL,\n",
    "      Apellido TEXT NOT NULL,\n",
    "      Cargo TEXT NOT NULL\n",
    "  );\n",
    "\"\"\"\n",
    "rest1=\"\"\"\n",
    "  -- Crear la tabla de Ventas\n",
    "  CREATE TABLE Ventas (\n",
    "      ID_Venta INTEGER PRIMARY KEY AUTOINCREMENT,\n",
    "      Fecha DATE NOT NULL,\n",
    "      ID_Cliente INTEGER,\n",
    "      ID_Empleado INTEGER,\n",
    "      FOREIGN KEY (ID_Cliente) REFERENCES Clientes(ID_Cliente),\n",
    "      FOREIGN KEY (ID_Empleado) REFERENCES Empleados(ID_Empleado)\n",
    "  );\n",
    "\"\"\"\n",
    "rest2 = \"\"\"\n",
    "  -- Crear la tabla de DetallesVenta\n",
    "  CREATE TABLE DetallesVenta (\n",
    "      ID_Detalle INTEGER PRIMARY KEY AUTOINCREMENT,\n",
    "      ID_Venta INTEGER,\n",
    "      ID_Producto INTEGER,\n",
    "      Cantidad INTEGER NOT NULL,\n",
    "      Precio_Unitario REAL NOT NULL,\n",
    "      FOREIGN KEY (ID_Venta) REFERENCES Ventas(ID_Venta),\n",
    "      FOREIGN KEY (ID_Producto) REFERENCES Productos(ID_Producto)\n",
    "  );\n",
    "\"\"\"\n",
    "exec_instruction(rest)\n",
    "exec_instruction(rest1)\n",
    "exec_instruction(rest2)\n"
   ]
  },
  {
   "cell_type": "markdown",
   "metadata": {
    "id": "oz7-IEohPhqw"
   },
   "source": [
    "## Como insertar data? ... Con comando SQL\n",
    "\n",
    "Ojo ver el poco control que tenemos sobre la sintaxis\n",
    "\n"
   ]
  },
  {
   "cell_type": "code",
   "execution_count": 137,
   "metadata": {
    "colab": {
     "base_uri": "https://localhost:8080/"
    },
    "id": "647sl2c0O3hW",
    "outputId": "586e90a5-74da-4362-a209-5649f323db2c"
   },
   "outputs": [
    {
     "name": "stdout",
     "output_type": "stream",
     "text": [
      "Error in query execution\n"
     ]
    }
   ],
   "source": [
    "insert = \"\"\"\n",
    "  INSERT INTO Clientes (Nombre, Apellido, Email, Telefono) VALUES\n",
    "('Juan', 'Pérez', 'juan.perez@email.com', '1234567890'),\n",
    "\"\"\"\n",
    "exec_instruction(insert)"
   ]
  },
  {
   "cell_type": "code",
   "execution_count": 138,
   "metadata": {
    "colab": {
     "base_uri": "https://localhost:8080/"
    },
    "id": "RLyIasexTF0F",
    "outputId": "10a4298c-777f-4b5c-f4fa-94bc5abfb649"
   },
   "outputs": [
    {
     "name": "stdout",
     "output_type": "stream",
     "text": [
      "Executed Succesfully\n"
     ]
    }
   ],
   "source": [
    "insert = \"\"\"\n",
    "  INSERT INTO Clientes (Nombre, Apellido, Email, Telefono) VALUES\n",
    "('Juan', 'Pérez', 'juan.perez@email.com', '1234567890')\n",
    "\"\"\"\n",
    "exec_instruction(insert)"
   ]
  },
  {
   "cell_type": "markdown",
   "metadata": {
    "id": "rcjtNPukThcp"
   },
   "source": [
    "## Vamos a automatizar la populada de los datos"
   ]
  },
  {
   "cell_type": "code",
   "execution_count": 139,
   "metadata": {
    "id": "el5Mz2KJTrxP"
   },
   "outputs": [],
   "source": [
    "# Usemos el execute many\n",
    "\n",
    "# c.executemany(Query,list_values)\n",
    "def exec_instruction(cmd: str, many:bool=False,list_rec=[]):\n",
    "  try:\n",
    "    conn = get_connection()\n",
    "    c = conn.cursor()\n",
    "    if many:\n",
    "      c.executemany(cmd,list_rec)\n",
    "    else:\n",
    "      c.execute(cmd)\n",
    "    # Confirmar la ejecución\n",
    "    conn.commit()\n",
    "    conn.close()\n",
    "    print(\"Executed Succesfully\")\n",
    "  except:\n",
    "    print(\"Error in query execution\")\n"
   ]
  },
  {
   "cell_type": "code",
   "execution_count": 140,
   "metadata": {
    "cellView": "form",
    "id": "ApIbMVA-VACd"
   },
   "outputs": [],
   "source": [
    "# @title Datos de clientes ... (clientes)\n",
    "\n",
    "clientes = [\n",
    "    ('Ana', 'García', 'ana.garcia@email.com', '0987654321'),\n",
    "    ('Luis', 'Martínez', 'luis.martinez@email.com', '1122334455'),\n",
    "    ('Sofía', 'Rodríguez', 'sofia.rodriguez@email.com', '2233445566'),\n",
    "    ('Carlos', 'López', 'carlos.lopez@email.com', '3344556677'),\n",
    "    ('María', 'González', 'maria.gonzalez@email.com', '4455667788'),\n",
    "    ('David', 'Fernández', 'david.fernandez@email.com', '5566778899'),\n",
    "    ('Laura', 'Ruiz', 'laura.ruiz@email.com', '6677889900'),\n",
    "    ('Daniel', 'Ramírez', 'daniel.ramirez@email.com', '7788990011'),\n",
    "    ('Elena', 'Morales', 'elena.morales@email.com', '8899001122'),\n",
    "    ('Javier', 'Ortega', 'javier.ortega@email.com', '9900112233'),\n",
    "    ('Sara', 'Gutiérrez', 'sara.gutierrez@email.com', '0011223344'),\n",
    "    ('Pablo', 'Romero', 'pablo.romero@email.com', '1122334455'),\n",
    "    ('Marta', 'Sánchez', 'marta.sanchez@email.com', '2233445566'),\n",
    "    ('José', 'Torres', 'jose.torres@email.com', '3344556677'),\n",
    "    ('Andrea', 'Giménez', 'andrea.gimenez@email.com', '4455667788'),\n",
    "    ('Jorge', 'Vázquez', 'jorge.vazquez@email.com', '5566778899'),\n",
    "    ('Mónica', 'Castro', 'monica.castro@email.com', '6677889900'),\n",
    "    ('Diego', 'Serrano', 'diego.serrano@email.com', '7788990011'),\n",
    "    ('Cristina', 'Guerrero', 'cristina.guerrero@email.com', '8899001122'),\n",
    "    ('Rubén', 'Molina', 'ruben.molina@email.com', '9900112233'),\n",
    "    ('Isabel', 'Delgado', 'isabel.delgado@email.com', '0011223344'),\n",
    "    ('Álvaro', 'Marín', 'alvaro.marin@email.com', '1122334455'),\n",
    "    ('Irene', 'Núñez', 'irene.nunez@email.com', '2233445566'),\n",
    "    ('Ricardo', 'Medina', 'ricardo.medina@email.com', '3344556677'),\n",
    "    ('Susana', 'Herrera', 'susana.herrera@email.com', '4455667788'),\n",
    "    ('Mario', 'Domínguez', 'mario.dominguez@email.com', '5566778899'),\n",
    "    ('Silvia', 'Reyes', 'silvia.reyes@email.com', '6677889900'),\n",
    "    ('Marcos', 'Fuentes', 'marcos.fuentes@email.com', '7788990011'),\n",
    "    ('Natalia', 'Cabrera', 'natalia.cabrera@email.com', '8899001122')\n",
    "]\n"
   ]
  },
  {
   "cell_type": "code",
   "execution_count": 141,
   "metadata": {
    "colab": {
     "base_uri": "https://localhost:8080/"
    },
    "id": "-o-XOv5JhCJv",
    "outputId": "8931311c-731d-4386-8181-eda06666e63d"
   },
   "outputs": [
    {
     "name": "stdout",
     "output_type": "stream",
     "text": [
      "Executed Succesfully\n"
     ]
    }
   ],
   "source": [
    "# OJO: LOS COMANDOS ACÁ SON CASE SENSITIVE\n",
    "query_clientes = \"\"\"\n",
    "INSERT INTO Clientes (Nombre, Apellido, Email, Telefono) VALUES (?,?,?,?)\n",
    "\"\"\"\n",
    "\n",
    "exec_instruction(query_clientes, many=True, list_rec=clientes)"
   ]
  },
  {
   "cell_type": "code",
   "execution_count": 142,
   "metadata": {
    "cellView": "form",
    "id": "efT18uIdVSoI"
   },
   "outputs": [],
   "source": [
    "# @title Datos de las categorías ...  (categorias)\n",
    "categorias = [\n",
    "    ('Electrónicos',),\n",
    "    ('Ropa',),\n",
    "    ('Alimentos',),\n",
    "    ('Juguetes',),\n",
    "    ('Muebles',),\n",
    "    ('Libros',),\n",
    "    ('Deportes',),\n",
    "    ('Jardín',),\n",
    "    ('Automóviles',),\n",
    "    ('Belleza',),\n",
    "    ('Salud',),\n",
    "    ('Mascotas',),\n",
    "    ('Oficina',),\n",
    "    ('Hogar',),\n",
    "    ('Arte',),\n",
    "    ('Música',),\n",
    "    ('Películas',),\n",
    "    ('Videojuegos',),\n",
    "    ('Fotografía',),\n",
    "    ('Computadoras',),\n",
    "    ('Teléfonos',),\n",
    "    ('Accesorios',),\n",
    "    ('Calzado',),\n",
    "    ('Joyas',),\n",
    "    ('Relojes',),\n",
    "    ('Instrumentos Musicales',),\n",
    "    ('Equipo de Sonido',),\n",
    "    ('Herramientas',),\n",
    "    ('Bebés',),\n",
    "    ('Adultos',),\n",
    "    ('Otros',)\n",
    "]\n"
   ]
  },
  {
   "cell_type": "code",
   "execution_count": 143,
   "metadata": {
    "id": "jhX6lgkuiM3c"
   },
   "outputs": [],
   "source": [
    "# Tu código acá ..."
   ]
  },
  {
   "cell_type": "code",
   "execution_count": 144,
   "metadata": {
    "cellView": "form",
    "id": "PUfoeQHFegcD"
   },
   "outputs": [],
   "source": [
    "# @title Datos de productos ... (productos)\n",
    "productos = [\n",
    "    ('Televisor', 500.00, 10, 1),\n",
    "    ('Camisa', 20.00, 50, 2),\n",
    "    ('Manzana', 1.00, 100, 3),\n",
    "    ('Pelota', 5.00, 40, 4),\n",
    "    ('Sofá', 300.00, 5, 5),\n",
    "    ('Libro', 10.00, 30, 6),\n",
    "    ('Bicicleta', 100.00, 15, 7),\n",
    "    ('Maceta', 8.00, 20, 8),\n",
    "    ('Aceite de motor', 12.00, 25, 9),\n",
    "    ('Crema facial', 15.00, 60, 10),\n",
    "    ('Vitamina C', 7.00, 50, 11),\n",
    "    ('Comida para perro', 20.00, 30, 12),\n",
    "    ('Silla de oficina', 80.00, 10, 13),\n",
    "    ('Lámpara', 25.00, 20, 14),\n",
    "    ('Cuadro', 50.00, 10, 15),\n",
    "    ('Guitarra', 200.00, 5, 16),\n",
    "    ('DVD de película', 5.00, 100, 17),\n",
    "    ('Videojuego', 60.00, 20, 18),\n",
    "    ('Cámara', 300.00, 8, 19),\n",
    "    ('Laptop', 800.00, 10, 20),\n",
    "    ('Smartphone', 700.00, 15, 21),\n",
    "    ('Mochila', 30.00, 25, 22),\n",
    "    ('Zapatos', 40.00, 30, 23),\n",
    "    ('Collar', 100.00, 10, 24),\n",
    "    ('Reloj', 150.00, 12, 25),\n",
    "    ('Piano', 1000.00, 2, 26),\n",
    "    ('Altavoces', 50.00, 20, 27),\n",
    "    ('Taladro', 70.00, 15, 28),\n",
    "    ('Pañales', 25.00, 40, 29),\n",
    "    ('Juguete para adultos', 50.00, 20, 30)\n",
    "]\n"
   ]
  },
  {
   "cell_type": "code",
   "execution_count": 145,
   "metadata": {
    "id": "pYzbVt1iiUb3"
   },
   "outputs": [],
   "source": [
    "# Tu código acá ..."
   ]
  },
  {
   "cell_type": "code",
   "execution_count": 146,
   "metadata": {
    "cellView": "form",
    "id": "bVv_Q3sCelsZ"
   },
   "outputs": [],
   "source": [
    "# @title Datos de empleados ... (empleados)\n",
    "empleados = [\n",
    "    ('Carlos', 'Rodríguez', 'Vendedor'),\n",
    "    ('María', 'López', 'Gerente'),\n",
    "    ('Pedro', 'González', 'Cajero'),\n",
    "    ('Lucía', 'Martínez', 'Vendedor'),\n",
    "    ('Fernando', 'García', 'Almacenero'),\n",
    "    ('Carmen', 'Pérez', 'Vendedor'),\n",
    "    ('Antonio', 'Sánchez', 'Cajero'),\n",
    "    ('Miguel', 'Gómez', 'Vendedor'),\n",
    "    ('Rosa', 'Ruiz', 'Almacenero'),\n",
    "    ('Francisco', 'Hernández', 'Vendedor'),\n",
    "    ('Raquel', 'Jiménez', 'Cajero'),\n",
    "    ('Sergio', 'Díaz', 'Vendedor'),\n",
    "    ('Isabel', 'Álvarez', 'Almacenero'),\n",
    "    ('Alejandro', 'Moreno', 'Vendedor'),\n",
    "    ('Esther', 'Muñoz', 'Cajero'),\n",
    "    ('Joaquín', 'Romero', 'Vendedor'),\n",
    "    ('Pilar', 'Alonso', 'Almacenero'),\n",
    "    ('Andrés', 'Gutiérrez', 'Vendedor'),\n",
    "    ('Irene', 'Torres', 'Cajero'),\n",
    "    ('Javier', 'Domínguez', 'Vendedor'),\n",
    "    ('Teresa', 'Serrano', 'Almacenero'),\n",
    "    ('Rafael', 'Ramos', 'Vendedor'),\n",
    "    ('Lorena', 'Blanco', 'Cajero'),\n",
    "    ('Enrique', 'Medina', 'Vendedor'),\n",
    "    ('Sonia', 'Castro', 'Almacenero'),\n",
    "    ('Víctor', 'Ortega', 'Vendedor'),\n",
    "    ('Laura', 'Cano', 'Cajero'),\n",
    "    ('Alberto', 'Santos', 'Vendedor'),\n",
    "    ('Alicia', 'Navarro', 'Almacenero'),\n",
    "    ('Roberto', 'Gil', 'Vendedor')\n",
    "]\n"
   ]
  },
  {
   "cell_type": "code",
   "execution_count": 147,
   "metadata": {
    "id": "2Z18KNFbiT5i"
   },
   "outputs": [],
   "source": [
    "# Tu código acá ..."
   ]
  },
  {
   "cell_type": "code",
   "execution_count": 148,
   "metadata": {
    "cellView": "form",
    "id": "zsnZ3lmye-kJ"
   },
   "outputs": [],
   "source": [
    "# @title datos de ventas ... (ventas)\n",
    "ventas = [\n",
    "    ('2023-09-01', 1, 1),\n",
    "    ('2023-09-02', 2, 1),\n",
    "    ('2023-09-03', 2, 3),\n",
    "    ('2023-09-04', 4, 1),\n",
    "    ('2023-09-05', 2, 5),\n",
    "    ('2023-09-06', 1, 6),\n",
    "    ('2023-09-07', 7, 7),\n",
    "    ('2023-09-08', 8, 8),\n",
    "    ('2023-09-09', 1, 9),\n",
    "    ('2023-09-10', 10, 10),\n",
    "    ('2023-09-11', 11, 1),\n",
    "    ('2023-09-12', 1, 12),\n",
    "    ('2023-09-13', 13, 1),\n",
    "    ('2023-09-14', 1, 14),\n",
    "    ('2023-09-15', 15, 15),\n",
    "    ('2023-09-16', 1, 3),\n",
    "    ('2023-09-17', 17, 17),\n",
    "    ('2023-09-18', 1, 18),\n",
    "    ('2023-09-19', 1, 3),\n",
    "    ('2023-09-20', 20, 20),\n",
    "    ('2023-09-21', 21, 2),\n",
    "    ('2023-09-22', 1, 22),\n",
    "    ('2023-09-23', 23, 23),\n",
    "    ('2023-09-24', 2, 24),\n",
    "    ('2023-09-25', 2, 25),\n",
    "    ('2023-09-26', 2, 26),\n",
    "    ('2023-09-27', 27, 27),\n",
    "    ('2023-09-28', 28, 3),\n",
    "    ('2023-09-29', 2, 4),\n",
    "    ('2023-09-30', 30, 3)\n",
    "]\n"
   ]
  },
  {
   "cell_type": "code",
   "execution_count": 149,
   "metadata": {
    "id": "5lCR8WyqiXIm"
   },
   "outputs": [],
   "source": [
    "# Tu código acá ..."
   ]
  },
  {
   "cell_type": "code",
   "execution_count": 150,
   "metadata": {
    "cellView": "form",
    "id": "hgRrzd2UfwlO"
   },
   "outputs": [],
   "source": [
    "# @title Datos de detalles de venta ... (detalles_venta)\n",
    "\n",
    "detalles_venta = [\n",
    "    (1, 1, 2, 500.00),\n",
    "    (2, 2, 5, 20.00),\n",
    "    (3, 3, 10, 1.00),\n",
    "    (4, 4, 1, 5.00),\n",
    "    (5, 5, 1, 300.00),\n",
    "    (6, 6, 3, 10.00),\n",
    "    (7, 7, 1, 100.00),\n",
    "    (8, 8, 2, 8.00),\n",
    "    (9, 9, 1, 12.00),\n",
    "    (10, 10, 4, 15.00),\n",
    "    (11, 11, 2, 7.00),\n",
    "    (12, 12, 1, 20.00),\n",
    "    (13, 13, 1, 80.00),\n",
    "    (14, 14, 1, 25.00),\n",
    "    (15, 15, 1, 50.00),\n",
    "    (16, 16, 1, 200.00),\n",
    "    (17, 17, 5, 5.00),\n",
    "    (18, 18, 1, 60.00),\n",
    "    (19, 19, 1, 300.00),\n",
    "    (20, 20, 1, 800.00),\n",
    "    (21, 21, 1, 700.00),\n",
    "    (22, 22, 1, 30.00),\n",
    "    (23, 23, 1, 40.00),\n",
    "    (24, 24, 1, 100.00),\n",
    "    (25, 25, 1, 150.00),\n",
    "    (26, 26, 1, 1000.00),\n",
    "    (27, 27, 2, 50.00),\n",
    "    (28, 28, 1, 70.00),\n",
    "    (29, 29, 2, 25.00),\n",
    "    (30, 30, 1, 50.00)\n",
    "]\n"
   ]
  },
  {
   "cell_type": "code",
   "execution_count": 151,
   "metadata": {
    "id": "j-uHG7oOiVW_"
   },
   "outputs": [],
   "source": [
    "# Tu código acá ..."
   ]
  },
  {
   "cell_type": "markdown",
   "metadata": {
    "id": "Eox7s2y5ibye"
   },
   "source": [
    "## Ahora revisemos como extraer datos de la base de datos"
   ]
  },
  {
   "cell_type": "code",
   "execution_count": 153,
   "metadata": {
    "id": "q2QL4RXWihW9"
   },
   "outputs": [],
   "source": [
    "# Llamemos nuestra función con la conexión\n",
    "conn = get_connection()"
   ]
  },
  {
   "cell_type": "code",
   "execution_count": 154,
   "metadata": {
    "colab": {
     "base_uri": "https://localhost:8080/"
    },
    "id": "353Izc-uiwVM",
    "outputId": "2d99a45c-1fe2-4cbd-bfd2-d8caa679d8d8"
   },
   "outputs": [
    {
     "name": "stdout",
     "output_type": "stream",
     "text": [
      "(1, 'Electrónicos')\n",
      "(2, 'Ropa')\n",
      "(3, 'Alimentos')\n",
      "(4, 'Juguetes')\n",
      "(5, 'Muebles')\n",
      "(6, 'Libros')\n",
      "(7, 'Deportes')\n",
      "(8, 'Jardín')\n",
      "(9, 'Automóviles')\n",
      "(10, 'Belleza')\n",
      "(11, 'Salud')\n",
      "(12, 'Mascotas')\n",
      "(13, 'Oficina')\n",
      "(14, 'Hogar')\n",
      "(15, 'Arte')\n",
      "(16, 'Música')\n",
      "(17, 'Películas')\n",
      "(18, 'Videojuegos')\n",
      "(19, 'Fotografía')\n",
      "(20, 'Computadoras')\n",
      "(21, 'Teléfonos')\n",
      "(22, 'Accesorios')\n",
      "(23, 'Calzado')\n",
      "(24, 'Joyas')\n",
      "(25, 'Relojes')\n",
      "(26, 'Instrumentos Musicales')\n",
      "(27, 'Equipo de Sonido')\n",
      "(28, 'Herramientas')\n",
      "(29, 'Bebés')\n",
      "(30, 'Adultos')\n",
      "(31, 'Otros')\n"
     ]
    }
   ],
   "source": [
    "cur = conn.cursor()\n",
    "\n",
    "# El resultado de una ejecución de execute se puede iterar\n",
    "for row in cur.execute('SELECT * FROM Categorias;'):\n",
    "    print(row)\n",
    "\n",
    "# Segurate siempre de cerrar la conexión para que no existan concflictos ... ahora no es tan importante pero más adelante en el curso tomara sentido\n",
    "conn.close()"
   ]
  },
  {
   "cell_type": "code",
   "execution_count": 162,
   "metadata": {
    "colab": {
     "base_uri": "https://localhost:8080/"
    },
    "id": "qmo3eq5ojDdv",
    "outputId": "9b12ed53-618f-49ef-9895-66d1c55b735e"
   },
   "outputs": [
    {
     "name": "stdout",
     "output_type": "stream",
     "text": [
      "(1, 'Carlos Rodríguez', 1199.0)\n",
      "(26, 'Víctor Ortega', 1000.0)\n",
      "(20, 'Javier Domínguez', 800.0)\n",
      "(2, 'María López', 700.0)\n",
      "(3, 'Pedro González', 630.0)\n",
      "(5, 'Fernando García', 300.0)\n",
      "(25, 'Sonia Castro', 150.0)\n",
      "(27, 'Laura Cano', 100.0)\n",
      "(24, 'Enrique Medina', 100.0)\n",
      "(7, 'Antonio Sánchez', 100.0)\n",
      "(18, 'Andrés Gutiérrez', 60.0)\n",
      "(10, 'Francisco Hernández', 60.0)\n",
      "(15, 'Esther Muñoz', 50.0)\n",
      "(4, 'Lucía Martínez', 50.0)\n",
      "(23, 'Lorena Blanco', 40.0)\n",
      "(22, 'Rafael Ramos', 30.0)\n",
      "(6, 'Carmen Pérez', 30.0)\n",
      "(17, 'Pilar Alonso', 25.0)\n",
      "(14, 'Alejandro Moreno', 25.0)\n",
      "(12, 'Sergio Díaz', 20.0)\n",
      "(8, 'Miguel Gómez', 16.0)\n",
      "(9, 'Rosa Ruiz', 12.0)\n"
     ]
    }
   ],
   "source": [
    "# Hagamos una query un poco más avanzada: veamos los vendedores que más han facturado para la empresa\n",
    "\n",
    "query = \"\"\"\n",
    "  SELECT\n",
    "    Empleados.ID_Empleado,\n",
    "    Empleados.Nombre || ' ' || Empleados.Apellido AS NombreCompleto,\n",
    "    SUM(DetallesVenta.Cantidad * DetallesVenta.Precio_Unitario) AS TotalVentas\n",
    "  FROM\n",
    "    Empleados\n",
    "  JOIN\n",
    "    Ventas ON Empleados.ID_Empleado = Ventas.ID_Empleado\n",
    "  JOIN\n",
    "    DetallesVenta ON Ventas.ID_Venta = DetallesVenta.ID_Venta\n",
    "  GROUP BY\n",
    "    Empleados.ID_Empleado\n",
    "  ORDER BY\n",
    "    TotalVentas DESC\n",
    "\"\"\"\n",
    "conn = get_connection()\n",
    "cur = conn.cursor()\n",
    "for row in cur.execute(query):\n",
    "    print(row)\n",
    "conn.close()"
   ]
  },
  {
   "cell_type": "markdown",
   "metadata": {
    "id": "2Y6fF1Id6fJ0"
   },
   "source": [
    "### Ahora respondamos algo...\n",
    "\n",
    "\"¿Cuál es el producto más vendido y cuántas unidades de ese producto se han vendido?\""
   ]
  },
  {
   "cell_type": "code",
   "execution_count": 161,
   "metadata": {
    "id": "yn-4vkWHjobX"
   },
   "outputs": [],
   "source": [
    "# \"¿Cuál es el producto más vendido y cuántas unidades de ese producto se han vendido?\"\n",
    "\n",
    "# Tu Código acá ..."
   ]
  },
  {
   "cell_type": "markdown",
   "metadata": {
    "id": "XDmMnOdd6tud"
   },
   "source": [
    "### Fetch all / Fetch one"
   ]
  },
  {
   "cell_type": "code",
   "execution_count": 163,
   "metadata": {
    "colab": {
     "base_uri": "https://localhost:8080/"
    },
    "id": "C5wsv8UH6tKi",
    "outputId": "93efc890-628f-4f6b-87ea-825eba6a529e"
   },
   "outputs": [
    {
     "name": "stdout",
     "output_type": "stream",
     "text": [
      "(1, 'Carlos Rodríguez', 1199.0)\n"
     ]
    }
   ],
   "source": [
    "conn = get_connection()\n",
    "cur = conn.cursor()\n",
    "cur.execute(query)\n",
    "print(cur.fetchone())\n",
    "conn.close()"
   ]
  },
  {
   "cell_type": "code",
   "execution_count": 165,
   "metadata": {
    "colab": {
     "base_uri": "https://localhost:8080/"
    },
    "id": "5hZ9h64t5LTv",
    "outputId": "438ecbf3-e0c8-4a73-d625-608e643f73b2"
   },
   "outputs": [
    {
     "name": "stdout",
     "output_type": "stream",
     "text": [
      "[(1, 'Carlos Rodríguez', 1199.0), (26, 'Víctor Ortega', 1000.0), (20, 'Javier Domínguez', 800.0), (2, 'María López', 700.0), (3, 'Pedro González', 630.0), (5, 'Fernando García', 300.0), (25, 'Sonia Castro', 150.0), (27, 'Laura Cano', 100.0), (24, 'Enrique Medina', 100.0), (7, 'Antonio Sánchez', 100.0), (18, 'Andrés Gutiérrez', 60.0), (10, 'Francisco Hernández', 60.0), (15, 'Esther Muñoz', 50.0), (4, 'Lucía Martínez', 50.0), (23, 'Lorena Blanco', 40.0), (22, 'Rafael Ramos', 30.0), (6, 'Carmen Pérez', 30.0), (17, 'Pilar Alonso', 25.0), (14, 'Alejandro Moreno', 25.0), (12, 'Sergio Díaz', 20.0), (8, 'Miguel Gómez', 16.0), (9, 'Rosa Ruiz', 12.0)] \n",
      "  <class 'list'>\n"
     ]
    }
   ],
   "source": [
    "conn = get_connection()\n",
    "cur = conn.cursor()\n",
    "cur.execute(query)\n",
    "print(cur.fetchall(), \"\\n \", type(cur.fetchall()))\n",
    "conn.close()"
   ]
  },
  {
   "cell_type": "markdown",
   "metadata": {
    "id": "2RsX2pnt7XlG"
   },
   "source": [
    "## Pandas para acceso a la información"
   ]
  },
  {
   "cell_type": "code",
   "execution_count": 168,
   "metadata": {
    "colab": {
     "base_uri": "https://localhost:8080/",
     "height": 224
    },
    "id": "uk48_uW77XKX",
    "outputId": "0f0d1023-75b7-431c-cb65-e8920aa469a6"
   },
   "outputs": [
    {
     "name": "stdout",
     "output_type": "stream",
     "text": [
      "<class 'pandas.core.frame.DataFrame'>\n"
     ]
    },
    {
     "data": {
      "text/html": [
       "\n",
       "  <div id=\"df-93fc97df-89c9-4a0c-8cd6-4a47196d875d\" class=\"colab-df-container\">\n",
       "    <div>\n",
       "<style scoped>\n",
       "    .dataframe tbody tr th:only-of-type {\n",
       "        vertical-align: middle;\n",
       "    }\n",
       "\n",
       "    .dataframe tbody tr th {\n",
       "        vertical-align: top;\n",
       "    }\n",
       "\n",
       "    .dataframe thead th {\n",
       "        text-align: right;\n",
       "    }\n",
       "</style>\n",
       "<table border=\"1\" class=\"dataframe\">\n",
       "  <thead>\n",
       "    <tr style=\"text-align: right;\">\n",
       "      <th></th>\n",
       "      <th>ID_Empleado</th>\n",
       "      <th>Nombre</th>\n",
       "      <th>Apellido</th>\n",
       "      <th>Cargo</th>\n",
       "    </tr>\n",
       "  </thead>\n",
       "  <tbody>\n",
       "    <tr>\n",
       "      <th>0</th>\n",
       "      <td>1</td>\n",
       "      <td>Carlos</td>\n",
       "      <td>Rodríguez</td>\n",
       "      <td>Vendedor</td>\n",
       "    </tr>\n",
       "    <tr>\n",
       "      <th>1</th>\n",
       "      <td>2</td>\n",
       "      <td>María</td>\n",
       "      <td>López</td>\n",
       "      <td>Gerente</td>\n",
       "    </tr>\n",
       "    <tr>\n",
       "      <th>2</th>\n",
       "      <td>3</td>\n",
       "      <td>Pedro</td>\n",
       "      <td>González</td>\n",
       "      <td>Cajero</td>\n",
       "    </tr>\n",
       "    <tr>\n",
       "      <th>3</th>\n",
       "      <td>4</td>\n",
       "      <td>Lucía</td>\n",
       "      <td>Martínez</td>\n",
       "      <td>Vendedor</td>\n",
       "    </tr>\n",
       "    <tr>\n",
       "      <th>4</th>\n",
       "      <td>5</td>\n",
       "      <td>Fernando</td>\n",
       "      <td>García</td>\n",
       "      <td>Almacenero</td>\n",
       "    </tr>\n",
       "  </tbody>\n",
       "</table>\n",
       "</div>\n",
       "    <div class=\"colab-df-buttons\">\n",
       "\n",
       "  <div class=\"colab-df-container\">\n",
       "    <button class=\"colab-df-convert\" onclick=\"convertToInteractive('df-93fc97df-89c9-4a0c-8cd6-4a47196d875d')\"\n",
       "            title=\"Convert this dataframe to an interactive table.\"\n",
       "            style=\"display:none;\">\n",
       "\n",
       "  <svg xmlns=\"http://www.w3.org/2000/svg\" height=\"24px\" viewBox=\"0 -960 960 960\">\n",
       "    <path d=\"M120-120v-720h720v720H120Zm60-500h600v-160H180v160Zm220 220h160v-160H400v160Zm0 220h160v-160H400v160ZM180-400h160v-160H180v160Zm440 0h160v-160H620v160ZM180-180h160v-160H180v160Zm440 0h160v-160H620v160Z\"/>\n",
       "  </svg>\n",
       "    </button>\n",
       "\n",
       "  <style>\n",
       "    .colab-df-container {\n",
       "      display:flex;\n",
       "      gap: 12px;\n",
       "    }\n",
       "\n",
       "    .colab-df-convert {\n",
       "      background-color: #E8F0FE;\n",
       "      border: none;\n",
       "      border-radius: 50%;\n",
       "      cursor: pointer;\n",
       "      display: none;\n",
       "      fill: #1967D2;\n",
       "      height: 32px;\n",
       "      padding: 0 0 0 0;\n",
       "      width: 32px;\n",
       "    }\n",
       "\n",
       "    .colab-df-convert:hover {\n",
       "      background-color: #E2EBFA;\n",
       "      box-shadow: 0px 1px 2px rgba(60, 64, 67, 0.3), 0px 1px 3px 1px rgba(60, 64, 67, 0.15);\n",
       "      fill: #174EA6;\n",
       "    }\n",
       "\n",
       "    .colab-df-buttons div {\n",
       "      margin-bottom: 4px;\n",
       "    }\n",
       "\n",
       "    [theme=dark] .colab-df-convert {\n",
       "      background-color: #3B4455;\n",
       "      fill: #D2E3FC;\n",
       "    }\n",
       "\n",
       "    [theme=dark] .colab-df-convert:hover {\n",
       "      background-color: #434B5C;\n",
       "      box-shadow: 0px 1px 3px 1px rgba(0, 0, 0, 0.15);\n",
       "      filter: drop-shadow(0px 1px 2px rgba(0, 0, 0, 0.3));\n",
       "      fill: #FFFFFF;\n",
       "    }\n",
       "  </style>\n",
       "\n",
       "    <script>\n",
       "      const buttonEl =\n",
       "        document.querySelector('#df-93fc97df-89c9-4a0c-8cd6-4a47196d875d button.colab-df-convert');\n",
       "      buttonEl.style.display =\n",
       "        google.colab.kernel.accessAllowed ? 'block' : 'none';\n",
       "\n",
       "      async function convertToInteractive(key) {\n",
       "        const element = document.querySelector('#df-93fc97df-89c9-4a0c-8cd6-4a47196d875d');\n",
       "        const dataTable =\n",
       "          await google.colab.kernel.invokeFunction('convertToInteractive',\n",
       "                                                    [key], {});\n",
       "        if (!dataTable) return;\n",
       "\n",
       "        const docLinkHtml = 'Like what you see? Visit the ' +\n",
       "          '<a target=\"_blank\" href=https://colab.research.google.com/notebooks/data_table.ipynb>data table notebook</a>'\n",
       "          + ' to learn more about interactive tables.';\n",
       "        element.innerHTML = '';\n",
       "        dataTable['output_type'] = 'display_data';\n",
       "        await google.colab.output.renderOutput(dataTable, element);\n",
       "        const docLink = document.createElement('div');\n",
       "        docLink.innerHTML = docLinkHtml;\n",
       "        element.appendChild(docLink);\n",
       "      }\n",
       "    </script>\n",
       "  </div>\n",
       "\n",
       "\n",
       "<div id=\"df-8693a3fa-9b59-45e7-9df6-b6f3229a5d19\">\n",
       "  <button class=\"colab-df-quickchart\" onclick=\"quickchart('df-8693a3fa-9b59-45e7-9df6-b6f3229a5d19')\"\n",
       "            title=\"Suggest charts.\"\n",
       "            style=\"display:none;\">\n",
       "\n",
       "<svg xmlns=\"http://www.w3.org/2000/svg\" height=\"24px\"viewBox=\"0 0 24 24\"\n",
       "     width=\"24px\">\n",
       "    <g>\n",
       "        <path d=\"M19 3H5c-1.1 0-2 .9-2 2v14c0 1.1.9 2 2 2h14c1.1 0 2-.9 2-2V5c0-1.1-.9-2-2-2zM9 17H7v-7h2v7zm4 0h-2V7h2v10zm4 0h-2v-4h2v4z\"/>\n",
       "    </g>\n",
       "</svg>\n",
       "  </button>\n",
       "\n",
       "<style>\n",
       "  .colab-df-quickchart {\n",
       "      --bg-color: #E8F0FE;\n",
       "      --fill-color: #1967D2;\n",
       "      --hover-bg-color: #E2EBFA;\n",
       "      --hover-fill-color: #174EA6;\n",
       "      --disabled-fill-color: #AAA;\n",
       "      --disabled-bg-color: #DDD;\n",
       "  }\n",
       "\n",
       "  [theme=dark] .colab-df-quickchart {\n",
       "      --bg-color: #3B4455;\n",
       "      --fill-color: #D2E3FC;\n",
       "      --hover-bg-color: #434B5C;\n",
       "      --hover-fill-color: #FFFFFF;\n",
       "      --disabled-bg-color: #3B4455;\n",
       "      --disabled-fill-color: #666;\n",
       "  }\n",
       "\n",
       "  .colab-df-quickchart {\n",
       "    background-color: var(--bg-color);\n",
       "    border: none;\n",
       "    border-radius: 50%;\n",
       "    cursor: pointer;\n",
       "    display: none;\n",
       "    fill: var(--fill-color);\n",
       "    height: 32px;\n",
       "    padding: 0;\n",
       "    width: 32px;\n",
       "  }\n",
       "\n",
       "  .colab-df-quickchart:hover {\n",
       "    background-color: var(--hover-bg-color);\n",
       "    box-shadow: 0 1px 2px rgba(60, 64, 67, 0.3), 0 1px 3px 1px rgba(60, 64, 67, 0.15);\n",
       "    fill: var(--button-hover-fill-color);\n",
       "  }\n",
       "\n",
       "  .colab-df-quickchart-complete:disabled,\n",
       "  .colab-df-quickchart-complete:disabled:hover {\n",
       "    background-color: var(--disabled-bg-color);\n",
       "    fill: var(--disabled-fill-color);\n",
       "    box-shadow: none;\n",
       "  }\n",
       "\n",
       "  .colab-df-spinner {\n",
       "    border: 2px solid var(--fill-color);\n",
       "    border-color: transparent;\n",
       "    border-bottom-color: var(--fill-color);\n",
       "    animation:\n",
       "      spin 1s steps(1) infinite;\n",
       "  }\n",
       "\n",
       "  @keyframes spin {\n",
       "    0% {\n",
       "      border-color: transparent;\n",
       "      border-bottom-color: var(--fill-color);\n",
       "      border-left-color: var(--fill-color);\n",
       "    }\n",
       "    20% {\n",
       "      border-color: transparent;\n",
       "      border-left-color: var(--fill-color);\n",
       "      border-top-color: var(--fill-color);\n",
       "    }\n",
       "    30% {\n",
       "      border-color: transparent;\n",
       "      border-left-color: var(--fill-color);\n",
       "      border-top-color: var(--fill-color);\n",
       "      border-right-color: var(--fill-color);\n",
       "    }\n",
       "    40% {\n",
       "      border-color: transparent;\n",
       "      border-right-color: var(--fill-color);\n",
       "      border-top-color: var(--fill-color);\n",
       "    }\n",
       "    60% {\n",
       "      border-color: transparent;\n",
       "      border-right-color: var(--fill-color);\n",
       "    }\n",
       "    80% {\n",
       "      border-color: transparent;\n",
       "      border-right-color: var(--fill-color);\n",
       "      border-bottom-color: var(--fill-color);\n",
       "    }\n",
       "    90% {\n",
       "      border-color: transparent;\n",
       "      border-bottom-color: var(--fill-color);\n",
       "    }\n",
       "  }\n",
       "</style>\n",
       "\n",
       "  <script>\n",
       "    async function quickchart(key) {\n",
       "      const quickchartButtonEl =\n",
       "        document.querySelector('#' + key + ' button');\n",
       "      quickchartButtonEl.disabled = true;  // To prevent multiple clicks.\n",
       "      quickchartButtonEl.classList.add('colab-df-spinner');\n",
       "      try {\n",
       "        const charts = await google.colab.kernel.invokeFunction(\n",
       "            'suggestCharts', [key], {});\n",
       "      } catch (error) {\n",
       "        console.error('Error during call to suggestCharts:', error);\n",
       "      }\n",
       "      quickchartButtonEl.classList.remove('colab-df-spinner');\n",
       "      quickchartButtonEl.classList.add('colab-df-quickchart-complete');\n",
       "    }\n",
       "    (() => {\n",
       "      let quickchartButtonEl =\n",
       "        document.querySelector('#df-8693a3fa-9b59-45e7-9df6-b6f3229a5d19 button');\n",
       "      quickchartButtonEl.style.display =\n",
       "        google.colab.kernel.accessAllowed ? 'block' : 'none';\n",
       "    })();\n",
       "  </script>\n",
       "</div>\n",
       "    </div>\n",
       "  </div>\n"
      ],
      "text/plain": [
       "   ID_Empleado    Nombre   Apellido       Cargo\n",
       "0            1    Carlos  Rodríguez    Vendedor\n",
       "1            2     María      López     Gerente\n",
       "2            3     Pedro   González      Cajero\n",
       "3            4     Lucía   Martínez    Vendedor\n",
       "4            5  Fernando     García  Almacenero"
      ]
     },
     "execution_count": 168,
     "metadata": {},
     "output_type": "execute_result"
    }
   ],
   "source": [
    "import pandas as pd\n",
    "import sqlite3\n",
    "\n",
    "# Primero debemos tenter la conección a la base de datos\n",
    "con = sqlite3.connect(\"MiTiendaCom.db\")\n",
    "df = pd.read_sql_query(\"SELECT * from Empleados\", con)\n",
    "con.close()\n",
    "# Verifiquemos el resultado de la query\n",
    "print(type(df))\n",
    "df.head()"
   ]
  },
  {
   "cell_type": "code",
   "execution_count": 169,
   "metadata": {
    "colab": {
     "base_uri": "https://localhost:8080/",
     "height": 224
    },
    "id": "6kzKe-qB7Nag",
    "outputId": "9bd0718c-e8e7-49d2-e1b8-5099cabdde01"
   },
   "outputs": [
    {
     "name": "stdout",
     "output_type": "stream",
     "text": [
      "<class 'pandas.core.frame.DataFrame'>\n"
     ]
    },
    {
     "data": {
      "text/html": [
       "\n",
       "  <div id=\"df-42ff8d8a-d44d-466a-9c66-e7032c064940\" class=\"colab-df-container\">\n",
       "    <div>\n",
       "<style scoped>\n",
       "    .dataframe tbody tr th:only-of-type {\n",
       "        vertical-align: middle;\n",
       "    }\n",
       "\n",
       "    .dataframe tbody tr th {\n",
       "        vertical-align: top;\n",
       "    }\n",
       "\n",
       "    .dataframe thead th {\n",
       "        text-align: right;\n",
       "    }\n",
       "</style>\n",
       "<table border=\"1\" class=\"dataframe\">\n",
       "  <thead>\n",
       "    <tr style=\"text-align: right;\">\n",
       "      <th></th>\n",
       "      <th>ID_Empleado</th>\n",
       "      <th>NombreCompleto</th>\n",
       "      <th>TotalVentas</th>\n",
       "    </tr>\n",
       "  </thead>\n",
       "  <tbody>\n",
       "    <tr>\n",
       "      <th>0</th>\n",
       "      <td>1</td>\n",
       "      <td>Carlos Rodríguez</td>\n",
       "      <td>1199.0</td>\n",
       "    </tr>\n",
       "    <tr>\n",
       "      <th>1</th>\n",
       "      <td>26</td>\n",
       "      <td>Víctor Ortega</td>\n",
       "      <td>1000.0</td>\n",
       "    </tr>\n",
       "    <tr>\n",
       "      <th>2</th>\n",
       "      <td>20</td>\n",
       "      <td>Javier Domínguez</td>\n",
       "      <td>800.0</td>\n",
       "    </tr>\n",
       "    <tr>\n",
       "      <th>3</th>\n",
       "      <td>2</td>\n",
       "      <td>María López</td>\n",
       "      <td>700.0</td>\n",
       "    </tr>\n",
       "    <tr>\n",
       "      <th>4</th>\n",
       "      <td>3</td>\n",
       "      <td>Pedro González</td>\n",
       "      <td>630.0</td>\n",
       "    </tr>\n",
       "  </tbody>\n",
       "</table>\n",
       "</div>\n",
       "    <div class=\"colab-df-buttons\">\n",
       "\n",
       "  <div class=\"colab-df-container\">\n",
       "    <button class=\"colab-df-convert\" onclick=\"convertToInteractive('df-42ff8d8a-d44d-466a-9c66-e7032c064940')\"\n",
       "            title=\"Convert this dataframe to an interactive table.\"\n",
       "            style=\"display:none;\">\n",
       "\n",
       "  <svg xmlns=\"http://www.w3.org/2000/svg\" height=\"24px\" viewBox=\"0 -960 960 960\">\n",
       "    <path d=\"M120-120v-720h720v720H120Zm60-500h600v-160H180v160Zm220 220h160v-160H400v160Zm0 220h160v-160H400v160ZM180-400h160v-160H180v160Zm440 0h160v-160H620v160ZM180-180h160v-160H180v160Zm440 0h160v-160H620v160Z\"/>\n",
       "  </svg>\n",
       "    </button>\n",
       "\n",
       "  <style>\n",
       "    .colab-df-container {\n",
       "      display:flex;\n",
       "      gap: 12px;\n",
       "    }\n",
       "\n",
       "    .colab-df-convert {\n",
       "      background-color: #E8F0FE;\n",
       "      border: none;\n",
       "      border-radius: 50%;\n",
       "      cursor: pointer;\n",
       "      display: none;\n",
       "      fill: #1967D2;\n",
       "      height: 32px;\n",
       "      padding: 0 0 0 0;\n",
       "      width: 32px;\n",
       "    }\n",
       "\n",
       "    .colab-df-convert:hover {\n",
       "      background-color: #E2EBFA;\n",
       "      box-shadow: 0px 1px 2px rgba(60, 64, 67, 0.3), 0px 1px 3px 1px rgba(60, 64, 67, 0.15);\n",
       "      fill: #174EA6;\n",
       "    }\n",
       "\n",
       "    .colab-df-buttons div {\n",
       "      margin-bottom: 4px;\n",
       "    }\n",
       "\n",
       "    [theme=dark] .colab-df-convert {\n",
       "      background-color: #3B4455;\n",
       "      fill: #D2E3FC;\n",
       "    }\n",
       "\n",
       "    [theme=dark] .colab-df-convert:hover {\n",
       "      background-color: #434B5C;\n",
       "      box-shadow: 0px 1px 3px 1px rgba(0, 0, 0, 0.15);\n",
       "      filter: drop-shadow(0px 1px 2px rgba(0, 0, 0, 0.3));\n",
       "      fill: #FFFFFF;\n",
       "    }\n",
       "  </style>\n",
       "\n",
       "    <script>\n",
       "      const buttonEl =\n",
       "        document.querySelector('#df-42ff8d8a-d44d-466a-9c66-e7032c064940 button.colab-df-convert');\n",
       "      buttonEl.style.display =\n",
       "        google.colab.kernel.accessAllowed ? 'block' : 'none';\n",
       "\n",
       "      async function convertToInteractive(key) {\n",
       "        const element = document.querySelector('#df-42ff8d8a-d44d-466a-9c66-e7032c064940');\n",
       "        const dataTable =\n",
       "          await google.colab.kernel.invokeFunction('convertToInteractive',\n",
       "                                                    [key], {});\n",
       "        if (!dataTable) return;\n",
       "\n",
       "        const docLinkHtml = 'Like what you see? Visit the ' +\n",
       "          '<a target=\"_blank\" href=https://colab.research.google.com/notebooks/data_table.ipynb>data table notebook</a>'\n",
       "          + ' to learn more about interactive tables.';\n",
       "        element.innerHTML = '';\n",
       "        dataTable['output_type'] = 'display_data';\n",
       "        await google.colab.output.renderOutput(dataTable, element);\n",
       "        const docLink = document.createElement('div');\n",
       "        docLink.innerHTML = docLinkHtml;\n",
       "        element.appendChild(docLink);\n",
       "      }\n",
       "    </script>\n",
       "  </div>\n",
       "\n",
       "\n",
       "<div id=\"df-dde780d4-9c07-4191-9939-240bb43dea9e\">\n",
       "  <button class=\"colab-df-quickchart\" onclick=\"quickchart('df-dde780d4-9c07-4191-9939-240bb43dea9e')\"\n",
       "            title=\"Suggest charts.\"\n",
       "            style=\"display:none;\">\n",
       "\n",
       "<svg xmlns=\"http://www.w3.org/2000/svg\" height=\"24px\"viewBox=\"0 0 24 24\"\n",
       "     width=\"24px\">\n",
       "    <g>\n",
       "        <path d=\"M19 3H5c-1.1 0-2 .9-2 2v14c0 1.1.9 2 2 2h14c1.1 0 2-.9 2-2V5c0-1.1-.9-2-2-2zM9 17H7v-7h2v7zm4 0h-2V7h2v10zm4 0h-2v-4h2v4z\"/>\n",
       "    </g>\n",
       "</svg>\n",
       "  </button>\n",
       "\n",
       "<style>\n",
       "  .colab-df-quickchart {\n",
       "      --bg-color: #E8F0FE;\n",
       "      --fill-color: #1967D2;\n",
       "      --hover-bg-color: #E2EBFA;\n",
       "      --hover-fill-color: #174EA6;\n",
       "      --disabled-fill-color: #AAA;\n",
       "      --disabled-bg-color: #DDD;\n",
       "  }\n",
       "\n",
       "  [theme=dark] .colab-df-quickchart {\n",
       "      --bg-color: #3B4455;\n",
       "      --fill-color: #D2E3FC;\n",
       "      --hover-bg-color: #434B5C;\n",
       "      --hover-fill-color: #FFFFFF;\n",
       "      --disabled-bg-color: #3B4455;\n",
       "      --disabled-fill-color: #666;\n",
       "  }\n",
       "\n",
       "  .colab-df-quickchart {\n",
       "    background-color: var(--bg-color);\n",
       "    border: none;\n",
       "    border-radius: 50%;\n",
       "    cursor: pointer;\n",
       "    display: none;\n",
       "    fill: var(--fill-color);\n",
       "    height: 32px;\n",
       "    padding: 0;\n",
       "    width: 32px;\n",
       "  }\n",
       "\n",
       "  .colab-df-quickchart:hover {\n",
       "    background-color: var(--hover-bg-color);\n",
       "    box-shadow: 0 1px 2px rgba(60, 64, 67, 0.3), 0 1px 3px 1px rgba(60, 64, 67, 0.15);\n",
       "    fill: var(--button-hover-fill-color);\n",
       "  }\n",
       "\n",
       "  .colab-df-quickchart-complete:disabled,\n",
       "  .colab-df-quickchart-complete:disabled:hover {\n",
       "    background-color: var(--disabled-bg-color);\n",
       "    fill: var(--disabled-fill-color);\n",
       "    box-shadow: none;\n",
       "  }\n",
       "\n",
       "  .colab-df-spinner {\n",
       "    border: 2px solid var(--fill-color);\n",
       "    border-color: transparent;\n",
       "    border-bottom-color: var(--fill-color);\n",
       "    animation:\n",
       "      spin 1s steps(1) infinite;\n",
       "  }\n",
       "\n",
       "  @keyframes spin {\n",
       "    0% {\n",
       "      border-color: transparent;\n",
       "      border-bottom-color: var(--fill-color);\n",
       "      border-left-color: var(--fill-color);\n",
       "    }\n",
       "    20% {\n",
       "      border-color: transparent;\n",
       "      border-left-color: var(--fill-color);\n",
       "      border-top-color: var(--fill-color);\n",
       "    }\n",
       "    30% {\n",
       "      border-color: transparent;\n",
       "      border-left-color: var(--fill-color);\n",
       "      border-top-color: var(--fill-color);\n",
       "      border-right-color: var(--fill-color);\n",
       "    }\n",
       "    40% {\n",
       "      border-color: transparent;\n",
       "      border-right-color: var(--fill-color);\n",
       "      border-top-color: var(--fill-color);\n",
       "    }\n",
       "    60% {\n",
       "      border-color: transparent;\n",
       "      border-right-color: var(--fill-color);\n",
       "    }\n",
       "    80% {\n",
       "      border-color: transparent;\n",
       "      border-right-color: var(--fill-color);\n",
       "      border-bottom-color: var(--fill-color);\n",
       "    }\n",
       "    90% {\n",
       "      border-color: transparent;\n",
       "      border-bottom-color: var(--fill-color);\n",
       "    }\n",
       "  }\n",
       "</style>\n",
       "\n",
       "  <script>\n",
       "    async function quickchart(key) {\n",
       "      const quickchartButtonEl =\n",
       "        document.querySelector('#' + key + ' button');\n",
       "      quickchartButtonEl.disabled = true;  // To prevent multiple clicks.\n",
       "      quickchartButtonEl.classList.add('colab-df-spinner');\n",
       "      try {\n",
       "        const charts = await google.colab.kernel.invokeFunction(\n",
       "            'suggestCharts', [key], {});\n",
       "      } catch (error) {\n",
       "        console.error('Error during call to suggestCharts:', error);\n",
       "      }\n",
       "      quickchartButtonEl.classList.remove('colab-df-spinner');\n",
       "      quickchartButtonEl.classList.add('colab-df-quickchart-complete');\n",
       "    }\n",
       "    (() => {\n",
       "      let quickchartButtonEl =\n",
       "        document.querySelector('#df-dde780d4-9c07-4191-9939-240bb43dea9e button');\n",
       "      quickchartButtonEl.style.display =\n",
       "        google.colab.kernel.accessAllowed ? 'block' : 'none';\n",
       "    })();\n",
       "  </script>\n",
       "</div>\n",
       "    </div>\n",
       "  </div>\n"
      ],
      "text/plain": [
       "   ID_Empleado    NombreCompleto  TotalVentas\n",
       "0            1  Carlos Rodríguez       1199.0\n",
       "1           26     Víctor Ortega       1000.0\n",
       "2           20  Javier Domínguez        800.0\n",
       "3            2       María López        700.0\n",
       "4            3    Pedro González        630.0"
      ]
     },
     "execution_count": 169,
     "metadata": {},
     "output_type": "execute_result"
    }
   ],
   "source": [
    "import pandas as pd\n",
    "import sqlite3\n",
    "\n",
    "# Primero debemos tenter la conección a la base de datos\n",
    "con = sqlite3.connect(\"MiTiendaCom.db\")\n",
    "df = pd.read_sql_query(query, con)\n",
    "con.close()\n",
    "# Verifiquemos el resultado de la query\n",
    "print(type(df))\n",
    "df.head()"
   ]
  },
  {
   "cell_type": "markdown",
   "metadata": {
    "id": "ELY5FaDD9wg2"
   },
   "source": [
    "## Guardemos los datos procesados con pandas en una tabla nueva"
   ]
  },
  {
   "cell_type": "code",
   "execution_count": 170,
   "metadata": {
    "id": "vOLzD6Cj93V3"
   },
   "outputs": [],
   "source": [
    "import pandas as pd\n",
    "import sqlite3\n",
    "\n",
    "con = sqlite3.connect(\"MiTiendaCom.db\")\n",
    "\n",
    "# Cargamos la data en un dataframe\n",
    "surveys_df = pd.read_sql_query(query, con)\n",
    "\n",
    "\n",
    "# Escribe el nuevo DataFrame a una nueva tabla en SQLite\n",
    "surveys_df.to_sql(\"TopSales\", con, if_exists=\"replace\")\n",
    "\n",
    "con.close()"
   ]
  },
  {
   "cell_type": "code",
   "execution_count": 173,
   "metadata": {
    "id": "LtHGjoVa-Paz"
   },
   "outputs": [],
   "source": [
    "# Verifiquemos que la nueva tabla exista dentro de la base de datos...\n",
    "\n",
    "# Tu código acá ..."
   ]
  },
  {
   "cell_type": "markdown",
   "metadata": {
    "id": "td4pwhmM_Ql3"
   },
   "source": [
    "#### Revisemos ahora como agregar registros nuevos con pandas...\n",
    "\n",
    "\n",
    "Para esto:\n",
    "\n",
    "1. Creamos la conexión\n",
    "2. Traemos con pandas todos los datos de la tabla Empleados\n",
    "3. Elimanamos la columna de los ID porque son autoincrementales\n",
    "3. Concatenamos los datos nuevos\n",
    "4. Sobreescribimos los datos de toda la tabla enviandole el dataframe editado\n",
    "5. OJO con el idex de pandas, este no lo debemos pasar a la base de datos.\n",
    "\n",
    "\n",
    "**Vamos a realizar este ejercicio ...**"
   ]
  },
  {
   "cell_type": "markdown",
   "metadata": {
    "id": "-3rt_YlB8gN4"
   },
   "source": [
    "[Recurso Extra](https://youtu.be/byHcYRpMgI4)"
   ]
  },
  {
   "cell_type": "markdown",
   "metadata": {
    "id": "RvT3Snfx-ccr"
   },
   "source": [
    "## Hablemos de los ORM's\n",
    "\n",
    "Un Object-Relational Mapping (ORM) es una técnica que permite interactuar con una base de datos relacional de una manera orientada a objetos. Uno de los ORM más populares para Python es SQLAlchemy. A continuación, te muestro un ejemplo simple de cómo usar SQLAlchemy para modelar una tienda con empleados y productos.\n",
    "\n",
    "<img src=\"https://cipsa.net/wp-content/uploads/01-img-Que-es-un-ORM-y-cuando-emplearlo.png.webp\"/>\n"
   ]
  },
  {
   "cell_type": "code",
   "execution_count": 174,
   "metadata": {
    "colab": {
     "base_uri": "https://localhost:8080/"
    },
    "id": "ggMCoFyjA2Os",
    "outputId": "ce3a5b26-502c-42e3-e534-631308eca4bc"
   },
   "outputs": [
    {
     "name": "stdout",
     "output_type": "stream",
     "text": [
      "Requirement already satisfied: sqlalchemy in /usr/local/lib/python3.10/dist-packages (2.0.20)\n",
      "Requirement already satisfied: typing-extensions>=4.2.0 in /usr/local/lib/python3.10/dist-packages (from sqlalchemy) (4.7.1)\n",
      "Requirement already satisfied: greenlet!=0.4.17 in /usr/local/lib/python3.10/dist-packages (from sqlalchemy) (2.0.2)\n"
     ]
    }
   ],
   "source": [
    "!pip install sqlalchemy"
   ]
  },
  {
   "cell_type": "markdown",
   "metadata": {
    "id": "lyeq7gjSBDo-"
   },
   "source": [
    "### Ejemplo de ORM en Python\n",
    "\n",
    "**OJO** Este ejemplo puede que no funcione acá... es solo para ilustrar los conceptos que profundizaremos en una próxima sesión..."
   ]
  },
  {
   "cell_type": "code",
   "execution_count": null,
   "metadata": {
    "id": "8_ldKYSMBB8G"
   },
   "outputs": [],
   "source": [
    "from sqlalchemy import Column, Integer, String, Float, create_engine, ForeignKey\n",
    "from sqlalchemy.ext.declarative import declarative_base\n",
    "from sqlalchemy.orm import relationship, sessionmaker\n",
    "\n",
    "Base = declarative_base()\n",
    "\n",
    "# Definir la clase Empleado, que corresponde a la tabla Empleados en la base de datos\n",
    "class Empleado(Base):\n",
    "    __tablename__ = 'empleados'\n",
    "\n",
    "    id = Column(Integer, primary_key=True)\n",
    "    nombre = Column(String)\n",
    "    apellido = Column(String)\n",
    "    cargo = Column(String)\n",
    "\n",
    "    def __repr__(self):\n",
    "        return f\"<Empleado(nombre='{self.nombre}', apellido='{self.apellido}', cargo='{self.cargo}')>\"\n",
    "\n",
    "# Definir la clase Producto, que corresponde a la tabla Productos en la base de datos\n",
    "class Producto(Base):\n",
    "    __tablename__ = 'productos'\n",
    "\n",
    "    id = Column(Integer, primary_key=True)\n",
    "    nombre = Column(String)\n",
    "    precio = Column(Float)\n",
    "\n",
    "    def __repr__(self):\n",
    "        return f\"<Producto(nombre='{self.nombre}', precio={self.precio})>\"\n",
    "\n",
    "# Crear una base de datos SQLite en memoria y conectar\n",
    "engine = create_engine('sqlite:///:memory:')\n",
    "\n",
    "# Crear las tablas en la base de datos\n",
    "Base.metadata.create_all(engine)\n",
    "\n",
    "# Crear una sesión para interactuar con la base de datos\n",
    "Session = sessionmaker(bind=engine)\n",
    "session = Session()\n",
    "\n",
    "# Agregar un nuevo empleado\n",
    "nuevo_empleado = Empleado(nombre='Juan', apellido='Pérez', cargo='Vendedor')\n",
    "session.add(nuevo_empleado)\n",
    "session.commit()\n",
    "\n",
    "# Agregar un nuevo producto\n",
    "nuevo_producto = Producto(nombre='Televisor', precio=500.0)\n",
    "session.add(nuevo_producto)\n",
    "session.commit()\n",
    "\n",
    "# Consultar todos los empleados\n",
    "for empleado in session.query(Empleado).all():\n",
    "    print(empleado)\n",
    "\n",
    "# Consultar todos los productos\n",
    "for producto in session.query(Producto).all():\n",
    "    print(producto)\n"
   ]
  }
 ],
 "metadata": {
  "colab": {
   "provenance": []
  },
  "kernelspec": {
   "display_name": "Python 3",
   "name": "python3"
  },
  "language_info": {
   "name": "python"
  }
 },
 "nbformat": 4,
 "nbformat_minor": 0
}